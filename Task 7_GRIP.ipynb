{
 "cells": [
  {
   "cell_type": "markdown",
   "id": "f3edae8f",
   "metadata": {},
   "source": [
    "# Author: Rimjhim Singh"
   ]
  },
  {
   "cell_type": "markdown",
   "id": "c555f61d",
   "metadata": {},
   "source": [
    "## The Sparks Foundation\n"
   ]
  },
  {
   "cell_type": "markdown",
   "id": "f9abfdb0",
   "metadata": {},
   "source": [
    "### Task 7: Stock Market Prediction using Numerical and Textual Analysis"
   ]
  },
  {
   "cell_type": "markdown",
   "id": "3b262563",
   "metadata": {},
   "source": [
    "### Step 1: Importing the libraries"
   ]
  },
  {
   "cell_type": "code",
   "execution_count": 101,
   "id": "eca79d40",
   "metadata": {
    "scrolled": true
   },
   "outputs": [
    {
     "name": "stderr",
     "output_type": "stream",
     "text": [
      "[nltk_data] Downloading package stopwords to\n",
      "[nltk_data]     C:\\Users\\Rimjhim\\AppData\\Roaming\\nltk_data...\n",
      "[nltk_data]   Package stopwords is already up-to-date!\n",
      "[nltk_data] Downloading package vader_lexicon to\n",
      "[nltk_data]     C:\\Users\\Rimjhim\\AppData\\Roaming\\nltk_data...\n",
      "[nltk_data]   Package vader_lexicon is already up-to-date!\n"
     ]
    }
   ],
   "source": [
    "#importing required libraries\n",
    "from sklearn.preprocessing import MinMaxScaler\n",
    "from sklearn.metrics import mean_squared_error\n",
    "from sklearn import metrics \n",
    "from keras.models import Sequential\n",
    "from keras.layers import Dense, LSTM\n",
    "import pandas as pd\n",
    "import matplotlib.pyplot as plt\n",
    "import numpy as np\n",
    "import math\n",
    "import re\n",
    "import nltk\n",
    "import re\n",
    "from nltk.corpus import stopwords\n",
    "nltk.download('stopwords')\n",
    "nltk.download('vader_lexicon')\n",
    "from textblob import TextBlob\n",
    "from nltk.sentiment.vader import SentimentIntensityAnalyzer\n",
    "from sklearn.ensemble import RandomForestRegressor, AdaBoostRegressor\n",
    "from sklearn.tree import DecisionTreeRegressor\n",
    "import xgboost \n",
    "import seaborn as sns\n",
    "from sklearn.model_selection import train_test_split"
   ]
  },
  {
   "cell_type": "markdown",
   "id": "8c711393",
   "metadata": {},
   "source": [
    "### Step 2 : Importing the Dataset 1 and Exploratory data analysis"
   ]
  },
  {
   "cell_type": "code",
   "execution_count": 2,
   "id": "5b24c85a",
   "metadata": {},
   "outputs": [],
   "source": [
    "# Dataframe for exploratory analysis (Numerical Dataset)\n",
    "df=pd.read_csv(\"D:/rimjhim/The Sparks Foundation Internship/Task 7/^BSESN.csv\")"
   ]
  },
  {
   "cell_type": "code",
   "execution_count": 3,
   "id": "c9a0396a",
   "metadata": {},
   "outputs": [
    {
     "data": {
      "text/html": [
       "<div>\n",
       "<style scoped>\n",
       "    .dataframe tbody tr th:only-of-type {\n",
       "        vertical-align: middle;\n",
       "    }\n",
       "\n",
       "    .dataframe tbody tr th {\n",
       "        vertical-align: top;\n",
       "    }\n",
       "\n",
       "    .dataframe thead th {\n",
       "        text-align: right;\n",
       "    }\n",
       "</style>\n",
       "<table border=\"1\" class=\"dataframe\">\n",
       "  <thead>\n",
       "    <tr style=\"text-align: right;\">\n",
       "      <th></th>\n",
       "      <th>Date</th>\n",
       "      <th>Open</th>\n",
       "      <th>High</th>\n",
       "      <th>Low</th>\n",
       "      <th>Close</th>\n",
       "      <th>Adj Close</th>\n",
       "      <th>Volume</th>\n",
       "    </tr>\n",
       "  </thead>\n",
       "  <tbody>\n",
       "    <tr>\n",
       "      <th>0</th>\n",
       "      <td>2019-12-17</td>\n",
       "      <td>41052.359375</td>\n",
       "      <td>41401.648438</td>\n",
       "      <td>41005.179688</td>\n",
       "      <td>41352.171875</td>\n",
       "      <td>41352.171875</td>\n",
       "      <td>19000.0</td>\n",
       "    </tr>\n",
       "    <tr>\n",
       "      <th>1</th>\n",
       "      <td>2019-12-18</td>\n",
       "      <td>41442.750000</td>\n",
       "      <td>41614.769531</td>\n",
       "      <td>41358.468750</td>\n",
       "      <td>41558.570313</td>\n",
       "      <td>41558.570313</td>\n",
       "      <td>24300.0</td>\n",
       "    </tr>\n",
       "    <tr>\n",
       "      <th>2</th>\n",
       "      <td>2019-12-19</td>\n",
       "      <td>41571.820313</td>\n",
       "      <td>41719.289063</td>\n",
       "      <td>41456.398438</td>\n",
       "      <td>41673.921875</td>\n",
       "      <td>41673.921875</td>\n",
       "      <td>33300.0</td>\n",
       "    </tr>\n",
       "    <tr>\n",
       "      <th>3</th>\n",
       "      <td>2019-12-20</td>\n",
       "      <td>41746.199219</td>\n",
       "      <td>41809.960938</td>\n",
       "      <td>41636.109375</td>\n",
       "      <td>41681.539063</td>\n",
       "      <td>41681.539063</td>\n",
       "      <td>33600.0</td>\n",
       "    </tr>\n",
       "    <tr>\n",
       "      <th>4</th>\n",
       "      <td>2019-12-23</td>\n",
       "      <td>41548.261719</td>\n",
       "      <td>41701.621094</td>\n",
       "      <td>41474.609375</td>\n",
       "      <td>41642.660156</td>\n",
       "      <td>41642.660156</td>\n",
       "      <td>6200.0</td>\n",
       "    </tr>\n",
       "  </tbody>\n",
       "</table>\n",
       "</div>"
      ],
      "text/plain": [
       "         Date          Open          High           Low         Close  \\\n",
       "0  2019-12-17  41052.359375  41401.648438  41005.179688  41352.171875   \n",
       "1  2019-12-18  41442.750000  41614.769531  41358.468750  41558.570313   \n",
       "2  2019-12-19  41571.820313  41719.289063  41456.398438  41673.921875   \n",
       "3  2019-12-20  41746.199219  41809.960938  41636.109375  41681.539063   \n",
       "4  2019-12-23  41548.261719  41701.621094  41474.609375  41642.660156   \n",
       "\n",
       "      Adj Close   Volume  \n",
       "0  41352.171875  19000.0  \n",
       "1  41558.570313  24300.0  \n",
       "2  41673.921875  33300.0  \n",
       "3  41681.539063  33600.0  \n",
       "4  41642.660156   6200.0  "
      ]
     },
     "execution_count": 3,
     "metadata": {},
     "output_type": "execute_result"
    }
   ],
   "source": [
    "df.head(5)"
   ]
  },
  {
   "cell_type": "code",
   "execution_count": 4,
   "id": "fc366c13",
   "metadata": {},
   "outputs": [
    {
     "data": {
      "text/html": [
       "<div>\n",
       "<style scoped>\n",
       "    .dataframe tbody tr th:only-of-type {\n",
       "        vertical-align: middle;\n",
       "    }\n",
       "\n",
       "    .dataframe tbody tr th {\n",
       "        vertical-align: top;\n",
       "    }\n",
       "\n",
       "    .dataframe thead th {\n",
       "        text-align: right;\n",
       "    }\n",
       "</style>\n",
       "<table border=\"1\" class=\"dataframe\">\n",
       "  <thead>\n",
       "    <tr style=\"text-align: right;\">\n",
       "      <th></th>\n",
       "      <th>Date</th>\n",
       "      <th>Open</th>\n",
       "      <th>High</th>\n",
       "      <th>Low</th>\n",
       "      <th>Close</th>\n",
       "      <th>Adj Close</th>\n",
       "      <th>Volume</th>\n",
       "    </tr>\n",
       "  </thead>\n",
       "  <tbody>\n",
       "    <tr>\n",
       "      <th>247</th>\n",
       "      <td>2020-12-11</td>\n",
       "      <td>46060.320313</td>\n",
       "      <td>46309.628906</td>\n",
       "      <td>45706.218750</td>\n",
       "      <td>46099.011719</td>\n",
       "      <td>46099.011719</td>\n",
       "      <td>26300.0</td>\n",
       "    </tr>\n",
       "    <tr>\n",
       "      <th>248</th>\n",
       "      <td>2020-12-14</td>\n",
       "      <td>46284.699219</td>\n",
       "      <td>46373.339844</td>\n",
       "      <td>45951.531250</td>\n",
       "      <td>46253.460938</td>\n",
       "      <td>46253.460938</td>\n",
       "      <td>18400.0</td>\n",
       "    </tr>\n",
       "    <tr>\n",
       "      <th>249</th>\n",
       "      <td>2020-12-15</td>\n",
       "      <td>46287.390625</td>\n",
       "      <td>46350.300781</td>\n",
       "      <td>45841.671875</td>\n",
       "      <td>46263.171875</td>\n",
       "      <td>46263.171875</td>\n",
       "      <td>16400.0</td>\n",
       "    </tr>\n",
       "    <tr>\n",
       "      <th>250</th>\n",
       "      <td>2020-12-16</td>\n",
       "      <td>46573.308594</td>\n",
       "      <td>46704.968750</td>\n",
       "      <td>46402.199219</td>\n",
       "      <td>46666.460938</td>\n",
       "      <td>46666.460938</td>\n",
       "      <td>13100.0</td>\n",
       "    </tr>\n",
       "    <tr>\n",
       "      <th>251</th>\n",
       "      <td>2020-12-17</td>\n",
       "      <td>46774.320313</td>\n",
       "      <td>46992.570313</td>\n",
       "      <td>46627.601563</td>\n",
       "      <td>46890.339844</td>\n",
       "      <td>46890.339844</td>\n",
       "      <td>0.0</td>\n",
       "    </tr>\n",
       "  </tbody>\n",
       "</table>\n",
       "</div>"
      ],
      "text/plain": [
       "           Date          Open          High           Low         Close  \\\n",
       "247  2020-12-11  46060.320313  46309.628906  45706.218750  46099.011719   \n",
       "248  2020-12-14  46284.699219  46373.339844  45951.531250  46253.460938   \n",
       "249  2020-12-15  46287.390625  46350.300781  45841.671875  46263.171875   \n",
       "250  2020-12-16  46573.308594  46704.968750  46402.199219  46666.460938   \n",
       "251  2020-12-17  46774.320313  46992.570313  46627.601563  46890.339844   \n",
       "\n",
       "        Adj Close   Volume  \n",
       "247  46099.011719  26300.0  \n",
       "248  46253.460938  18400.0  \n",
       "249  46263.171875  16400.0  \n",
       "250  46666.460938  13100.0  \n",
       "251  46890.339844      0.0  "
      ]
     },
     "execution_count": 4,
     "metadata": {},
     "output_type": "execute_result"
    }
   ],
   "source": [
    "df.tail(5)"
   ]
  },
  {
   "cell_type": "code",
   "execution_count": 5,
   "id": "35a0da94",
   "metadata": {},
   "outputs": [
    {
     "data": {
      "text/plain": [
       "<bound method NDFrame.describe of            Date          Open          High           Low         Close  \\\n",
       "0    2019-12-17  41052.359375  41401.648438  41005.179688  41352.171875   \n",
       "1    2019-12-18  41442.750000  41614.769531  41358.468750  41558.570313   \n",
       "2    2019-12-19  41571.820313  41719.289063  41456.398438  41673.921875   \n",
       "3    2019-12-20  41746.199219  41809.960938  41636.109375  41681.539063   \n",
       "4    2019-12-23  41548.261719  41701.621094  41474.609375  41642.660156   \n",
       "..          ...           ...           ...           ...           ...   \n",
       "247  2020-12-11  46060.320313  46309.628906  45706.218750  46099.011719   \n",
       "248  2020-12-14  46284.699219  46373.339844  45951.531250  46253.460938   \n",
       "249  2020-12-15  46287.390625  46350.300781  45841.671875  46263.171875   \n",
       "250  2020-12-16  46573.308594  46704.968750  46402.199219  46666.460938   \n",
       "251  2020-12-17  46774.320313  46992.570313  46627.601563  46890.339844   \n",
       "\n",
       "        Adj Close   Volume  \n",
       "0    41352.171875  19000.0  \n",
       "1    41558.570313  24300.0  \n",
       "2    41673.921875  33300.0  \n",
       "3    41681.539063  33600.0  \n",
       "4    41642.660156   6200.0  \n",
       "..            ...      ...  \n",
       "247  46099.011719  26300.0  \n",
       "248  46253.460938  18400.0  \n",
       "249  46263.171875  16400.0  \n",
       "250  46666.460938  13100.0  \n",
       "251  46890.339844      0.0  \n",
       "\n",
       "[252 rows x 7 columns]>"
      ]
     },
     "execution_count": 5,
     "metadata": {},
     "output_type": "execute_result"
    }
   ],
   "source": [
    "df.describe"
   ]
  },
  {
   "cell_type": "code",
   "execution_count": 6,
   "id": "29a8df00",
   "metadata": {},
   "outputs": [
    {
     "name": "stdout",
     "output_type": "stream",
     "text": [
      "<class 'pandas.core.frame.DataFrame'>\n",
      "RangeIndex: 252 entries, 0 to 251\n",
      "Data columns (total 7 columns):\n",
      " #   Column     Non-Null Count  Dtype  \n",
      "---  ------     --------------  -----  \n",
      " 0   Date       252 non-null    object \n",
      " 1   Open       250 non-null    float64\n",
      " 2   High       250 non-null    float64\n",
      " 3   Low        250 non-null    float64\n",
      " 4   Close      250 non-null    float64\n",
      " 5   Adj Close  250 non-null    float64\n",
      " 6   Volume     250 non-null    float64\n",
      "dtypes: float64(6), object(1)\n",
      "memory usage: 13.9+ KB\n"
     ]
    }
   ],
   "source": [
    "df.info()"
   ]
  },
  {
   "cell_type": "code",
   "execution_count": 7,
   "id": "c77f4b6f",
   "metadata": {},
   "outputs": [
    {
     "data": {
      "text/plain": [
       "Index(['Date', 'Open', 'High', 'Low', 'Close', 'Adj Close', 'Volume'], dtype='object')"
      ]
     },
     "execution_count": 7,
     "metadata": {},
     "output_type": "execute_result"
    }
   ],
   "source": [
    "df.columns"
   ]
  },
  {
   "cell_type": "markdown",
   "id": "daa16a0d",
   "metadata": {},
   "source": [
    "Checking for null values in the dataset"
   ]
  },
  {
   "cell_type": "code",
   "execution_count": 8,
   "id": "b7771f37",
   "metadata": {},
   "outputs": [
    {
     "data": {
      "text/html": [
       "<div>\n",
       "<style scoped>\n",
       "    .dataframe tbody tr th:only-of-type {\n",
       "        vertical-align: middle;\n",
       "    }\n",
       "\n",
       "    .dataframe tbody tr th {\n",
       "        vertical-align: top;\n",
       "    }\n",
       "\n",
       "    .dataframe thead th {\n",
       "        text-align: right;\n",
       "    }\n",
       "</style>\n",
       "<table border=\"1\" class=\"dataframe\">\n",
       "  <thead>\n",
       "    <tr style=\"text-align: right;\">\n",
       "      <th></th>\n",
       "      <th>Date</th>\n",
       "      <th>Open</th>\n",
       "      <th>High</th>\n",
       "      <th>Low</th>\n",
       "      <th>Close</th>\n",
       "      <th>Adj Close</th>\n",
       "      <th>Volume</th>\n",
       "    </tr>\n",
       "  </thead>\n",
       "  <tbody>\n",
       "    <tr>\n",
       "      <th>0</th>\n",
       "      <td>False</td>\n",
       "      <td>False</td>\n",
       "      <td>False</td>\n",
       "      <td>False</td>\n",
       "      <td>False</td>\n",
       "      <td>False</td>\n",
       "      <td>False</td>\n",
       "    </tr>\n",
       "    <tr>\n",
       "      <th>1</th>\n",
       "      <td>False</td>\n",
       "      <td>False</td>\n",
       "      <td>False</td>\n",
       "      <td>False</td>\n",
       "      <td>False</td>\n",
       "      <td>False</td>\n",
       "      <td>False</td>\n",
       "    </tr>\n",
       "    <tr>\n",
       "      <th>2</th>\n",
       "      <td>False</td>\n",
       "      <td>False</td>\n",
       "      <td>False</td>\n",
       "      <td>False</td>\n",
       "      <td>False</td>\n",
       "      <td>False</td>\n",
       "      <td>False</td>\n",
       "    </tr>\n",
       "    <tr>\n",
       "      <th>3</th>\n",
       "      <td>False</td>\n",
       "      <td>False</td>\n",
       "      <td>False</td>\n",
       "      <td>False</td>\n",
       "      <td>False</td>\n",
       "      <td>False</td>\n",
       "      <td>False</td>\n",
       "    </tr>\n",
       "    <tr>\n",
       "      <th>4</th>\n",
       "      <td>False</td>\n",
       "      <td>False</td>\n",
       "      <td>False</td>\n",
       "      <td>False</td>\n",
       "      <td>False</td>\n",
       "      <td>False</td>\n",
       "      <td>False</td>\n",
       "    </tr>\n",
       "    <tr>\n",
       "      <th>...</th>\n",
       "      <td>...</td>\n",
       "      <td>...</td>\n",
       "      <td>...</td>\n",
       "      <td>...</td>\n",
       "      <td>...</td>\n",
       "      <td>...</td>\n",
       "      <td>...</td>\n",
       "    </tr>\n",
       "    <tr>\n",
       "      <th>247</th>\n",
       "      <td>False</td>\n",
       "      <td>False</td>\n",
       "      <td>False</td>\n",
       "      <td>False</td>\n",
       "      <td>False</td>\n",
       "      <td>False</td>\n",
       "      <td>False</td>\n",
       "    </tr>\n",
       "    <tr>\n",
       "      <th>248</th>\n",
       "      <td>False</td>\n",
       "      <td>False</td>\n",
       "      <td>False</td>\n",
       "      <td>False</td>\n",
       "      <td>False</td>\n",
       "      <td>False</td>\n",
       "      <td>False</td>\n",
       "    </tr>\n",
       "    <tr>\n",
       "      <th>249</th>\n",
       "      <td>False</td>\n",
       "      <td>False</td>\n",
       "      <td>False</td>\n",
       "      <td>False</td>\n",
       "      <td>False</td>\n",
       "      <td>False</td>\n",
       "      <td>False</td>\n",
       "    </tr>\n",
       "    <tr>\n",
       "      <th>250</th>\n",
       "      <td>False</td>\n",
       "      <td>False</td>\n",
       "      <td>False</td>\n",
       "      <td>False</td>\n",
       "      <td>False</td>\n",
       "      <td>False</td>\n",
       "      <td>False</td>\n",
       "    </tr>\n",
       "    <tr>\n",
       "      <th>251</th>\n",
       "      <td>False</td>\n",
       "      <td>False</td>\n",
       "      <td>False</td>\n",
       "      <td>False</td>\n",
       "      <td>False</td>\n",
       "      <td>False</td>\n",
       "      <td>False</td>\n",
       "    </tr>\n",
       "  </tbody>\n",
       "</table>\n",
       "<p>252 rows × 7 columns</p>\n",
       "</div>"
      ],
      "text/plain": [
       "      Date   Open   High    Low  Close  Adj Close  Volume\n",
       "0    False  False  False  False  False      False   False\n",
       "1    False  False  False  False  False      False   False\n",
       "2    False  False  False  False  False      False   False\n",
       "3    False  False  False  False  False      False   False\n",
       "4    False  False  False  False  False      False   False\n",
       "..     ...    ...    ...    ...    ...        ...     ...\n",
       "247  False  False  False  False  False      False   False\n",
       "248  False  False  False  False  False      False   False\n",
       "249  False  False  False  False  False      False   False\n",
       "250  False  False  False  False  False      False   False\n",
       "251  False  False  False  False  False      False   False\n",
       "\n",
       "[252 rows x 7 columns]"
      ]
     },
     "execution_count": 8,
     "metadata": {},
     "output_type": "execute_result"
    }
   ],
   "source": [
    "df.isnull()"
   ]
  },
  {
   "cell_type": "code",
   "execution_count": 9,
   "id": "9b4bdb3f",
   "metadata": {},
   "outputs": [
    {
     "data": {
      "text/plain": [
       "Date         0\n",
       "Open         2\n",
       "High         2\n",
       "Low          2\n",
       "Close        2\n",
       "Adj Close    2\n",
       "Volume       2\n",
       "dtype: int64"
      ]
     },
     "execution_count": 9,
     "metadata": {},
     "output_type": "execute_result"
    }
   ],
   "source": [
    "df.isnull().sum()"
   ]
  },
  {
   "cell_type": "code",
   "execution_count": 10,
   "id": "a70f1c7d",
   "metadata": {},
   "outputs": [
    {
     "data": {
      "text/plain": [
       "252"
      ]
     },
     "execution_count": 10,
     "metadata": {},
     "output_type": "execute_result"
    }
   ],
   "source": [
    "len(df)"
   ]
  },
  {
   "cell_type": "code",
   "execution_count": 11,
   "id": "dc9fe7a6",
   "metadata": {},
   "outputs": [
    {
     "data": {
      "text/plain": [
       "(252, 7)"
      ]
     },
     "execution_count": 11,
     "metadata": {},
     "output_type": "execute_result"
    }
   ],
   "source": [
    "df.shape"
   ]
  },
  {
   "cell_type": "code",
   "execution_count": 12,
   "id": "4f6a228f",
   "metadata": {},
   "outputs": [
    {
     "data": {
      "text/plain": [
       "[<matplotlib.lines.Line2D at 0x21fb2136dc0>]"
      ]
     },
     "execution_count": 12,
     "metadata": {},
     "output_type": "execute_result"
    },
    {
     "data": {
      "image/png": "[encoded data removed]",
      "text/plain": [
       "<Figure size 1152x576 with 1 Axes>"
      ]
     },
     "metadata": {
      "needs_background": "light"
     },
     "output_type": "display_data"
    }
   ],
   "source": [
    "#Plot closing stock price with respect to time\n",
    "df['Date'] = pd.to_datetime(df.Date,format='%Y-%m-%d')\n",
    "df.index = df['Date']\n",
    "df.dropna(inplace=True)\n",
    "plt.figure(figsize=(16,8))\n",
    "plt.plot(df['Close'], label='Close Price history')"
   ]
  },
  {
   "cell_type": "code",
   "execution_count": 13,
   "id": "1d8263e6",
   "metadata": {},
   "outputs": [
    {
     "data": {
      "text/plain": [
       "<AxesSubplot:>"
      ]
     },
     "execution_count": 13,
     "metadata": {},
     "output_type": "execute_result"
    },
    {
     "data": {
      "image/png": "[encoded data removed]",
      "text/plain": [
       "<Figure size 432x288 with 2 Axes>"
      ]
     },
     "metadata": {
      "needs_background": "light"
     },
     "output_type": "display_data"
    }
   ],
   "source": [
    "sns.heatmap(df.corr(),annot=True)"
   ]
  },
  {
   "cell_type": "code",
   "execution_count": 14,
   "id": "040560d9",
   "metadata": {},
   "outputs": [
    {
     "name": "stderr",
     "output_type": "stream",
     "text": [
      "C:\\Users\\Rimjhim\\AppData\\Local\\Programs\\Python\\Python39\\lib\\site-packages\\seaborn\\_decorators.py:36: FutureWarning: Pass the following variables as keyword args: x, y. From version 0.12, the only valid positional argument will be `data`, and passing other arguments without an explicit keyword will result in an error or misinterpretation.\n",
      "  warnings.warn(\n"
     ]
    },
    {
     "data": {
      "text/plain": [
       "<AxesSubplot:xlabel='Open', ylabel='Close'>"
      ]
     },
     "execution_count": 14,
     "metadata": {},
     "output_type": "execute_result"
    },
    {
     "data": {
      "image/png": "[encoded data removed]",
      "text/plain": [
       "<Figure size 432x288 with 1 Axes>"
      ]
     },
     "metadata": {
      "needs_background": "light"
     },
     "output_type": "display_data"
    }
   ],
   "source": [
    "sns.scatterplot(df['Open'],df['Close'])"
   ]
  },
  {
   "cell_type": "code",
   "execution_count": 180,
   "id": "4ce98644",
   "metadata": {},
   "outputs": [
    {
     "name": "stderr",
     "output_type": "stream",
     "text": [
      "C:\\Users\\Rimjhim\\AppData\\Local\\Programs\\Python\\Python39\\lib\\site-packages\\seaborn\\_decorators.py:36: FutureWarning: Pass the following variables as keyword args: x, y. From version 0.12, the only valid positional argument will be `data`, and passing other arguments without an explicit keyword will result in an error or misinterpretation.\n",
      "  warnings.warn(\n"
     ]
    },
    {
     "data": {
      "text/plain": [
       "<AxesSubplot:xlabel='Close', ylabel='Date'>"
      ]
     },
     "execution_count": 180,
     "metadata": {},
     "output_type": "execute_result"
    },
    {
     "data": {
      "image/png": "[encoded data removed]",
      "text/plain": [
       "<Figure size 432x288 with 1 Axes>"
      ]
     },
     "metadata": {
      "needs_background": "light"
     },
     "output_type": "display_data"
    }
   ],
   "source": [
    "sns.lineplot( df['Close'], df['Date'])"
   ]
  },
  {
   "cell_type": "code",
   "execution_count": 181,
   "id": "742a48a6",
   "metadata": {},
   "outputs": [
    {
     "name": "stderr",
     "output_type": "stream",
     "text": [
      "C:\\Users\\Rimjhim\\AppData\\Local\\Programs\\Python\\Python39\\lib\\site-packages\\seaborn\\distributions.py:2619: FutureWarning: `distplot` is a deprecated function and will be removed in a future version. Please adapt your code to use either `displot` (a figure-level function with similar flexibility) or `histplot` (an axes-level function for histograms).\n",
      "  warnings.warn(msg, FutureWarning)\n"
     ]
    },
    {
     "data": {
      "text/plain": [
       "<AxesSubplot:xlabel='Close', ylabel='Density'>"
      ]
     },
     "execution_count": 181,
     "metadata": {},
     "output_type": "execute_result"
    },
    {
     "data": {
      "image/png": "[encoded data removed]",
      "text/plain": [
       "<Figure size 432x288 with 1 Axes>"
      ]
     },
     "metadata": {
      "needs_background": "light"
     },
     "output_type": "display_data"
    }
   ],
   "source": [
    "sns.distplot( df['Close'])"
   ]
  },
  {
   "cell_type": "code",
   "execution_count": 15,
   "id": "309fb6e9",
   "metadata": {},
   "outputs": [
    {
     "data": {
      "text/plain": [
       "<seaborn.axisgrid.PairGrid at 0x21fb41818b0>"
      ]
     },
     "execution_count": 15,
     "metadata": {},
     "output_type": "execute_result"
    },
    {
     "data": {
      "image/png": "[encoded data removed]",
      "text/plain": [
       "<Figure size 1080x1080 with 42 Axes>"
      ]
     },
     "metadata": {
      "needs_background": "light"
     },
     "output_type": "display_data"
    }
   ],
   "source": [
    "sns.pairplot(df)\n"
   ]
  },
  {
   "cell_type": "code",
   "execution_count": 16,
   "id": "84e7b1d3",
   "metadata": {},
   "outputs": [],
   "source": [
    "np.random.seed(7)"
   ]
  },
  {
   "cell_type": "markdown",
   "id": "d006ba7d",
   "metadata": {},
   "source": [
    "### Additional Analysis"
   ]
  },
  {
   "cell_type": "code",
   "execution_count": 17,
   "id": "7fe42db3",
   "metadata": {},
   "outputs": [
    {
     "data": {
      "text/plain": [
       "<matplotlib.legend.Legend at 0x21fb68df9d0>"
      ]
     },
     "execution_count": 17,
     "metadata": {},
     "output_type": "execute_result"
    },
    {
     "data": {
      "image/png": "[encoded data removed]",
      "text/plain": [
       "<Figure size 1440x720 with 1 Axes>"
      ]
     },
     "metadata": {
      "needs_background": "light"
     },
     "output_type": "display_data"
    }
   ],
   "source": [
    "#Plotting moving average\n",
    "close = df['Close']\n",
    "\n",
    "ma = close.rolling(window = 50).mean()\n",
    "std = close.rolling(window = 50).std()\n",
    "\n",
    "plt.figure(figsize=(20,10))\n",
    "df['Close'].plot(color='g',label='Close')\n",
    "ma.plot(color = 'r',label='Rolling Mean')\n",
    "std.plot(label = 'Rolling Standard Deviation')\n",
    "\n",
    "plt.legend()"
   ]
  },
  {
   "cell_type": "code",
   "execution_count": 18,
   "id": "95f2496e",
   "metadata": {},
   "outputs": [
    {
     "data": {
      "text/plain": [
       "Text(0.5, 1.0, 'Returns')"
      ]
     },
     "execution_count": 18,
     "metadata": {},
     "output_type": "execute_result"
    },
    {
     "data": {
      "image/png": "[encoded data removed]",
      "text/plain": [
       "<Figure size 1440x720 with 1 Axes>"
      ]
     },
     "metadata": {
      "needs_background": "light"
     },
     "output_type": "display_data"
    }
   ],
   "source": [
    "#Plotting the Return\n",
    "returns = close / close.shift(1) - 1\n",
    "\n",
    "plt.figure(figsize = (20,10))\n",
    "returns.plot(label='Return', color = 'g')\n",
    "plt.title(\"Returns\")"
   ]
  },
  {
   "cell_type": "markdown",
   "id": "e4d2d989",
   "metadata": {},
   "source": [
    "### Step 3: Dataframe to store Closing stock data"
   ]
  },
  {
   "cell_type": "code",
   "execution_count": 19,
   "id": "aa18ee4d",
   "metadata": {},
   "outputs": [],
   "source": [
    "df2 = pd.read_csv(\"D:/rimjhim/The Sparks Foundation Internship/Task 7/^BSESN.csv\", usecols=[5], engine='python')\n",
    "df2.dropna(inplace=True)\n",
    "df2 = df2.values\n",
    "df2 = df2.astype('float32')"
   ]
  },
  {
   "cell_type": "code",
   "execution_count": 20,
   "id": "19d4e2af",
   "metadata": {},
   "outputs": [
    {
     "data": {
      "text/plain": [
       "array([[41352.17],\n",
       "       [41558.57],\n",
       "       [41673.92],\n",
       "       [41681.54],\n",
       "       [41642.66],\n",
       "       [41461.26],\n",
       "       [41163.76],\n",
       "       [41575.14],\n",
       "       [41558.  ],\n",
       "       [41253.74],\n",
       "       [41626.64],\n",
       "       [41464.61],\n",
       "       [40676.63],\n",
       "       [40869.47],\n",
       "       [40817.74],\n",
       "       [41452.35],\n",
       "       [41599.72],\n",
       "       [41859.69],\n",
       "       [41952.63],\n",
       "       [41872.73],\n",
       "       [41932.56],\n",
       "       [41945.37],\n",
       "       [41528.91],\n",
       "       [41323.81],\n",
       "       [41115.38],\n",
       "       [41386.4 ],\n",
       "       [41613.19],\n",
       "       [41155.12],\n",
       "       [40966.86],\n",
       "       [41198.66],\n",
       "       [40913.82],\n",
       "       [40723.49],\n",
       "       [39872.31],\n",
       "       [40789.38],\n",
       "       [41142.66],\n",
       "       [41306.03],\n",
       "       [41141.85],\n",
       "       [40979.62],\n",
       "       [41216.14],\n",
       "       [41565.9 ],\n",
       "       [41459.79],\n",
       "       [41257.74],\n",
       "       [41055.69],\n",
       "       [40894.38],\n",
       "       [41323.  ],\n",
       "       [41170.12],\n",
       "       [40363.23],\n",
       "       [40281.2 ],\n",
       "       [39888.96],\n",
       "       [39745.66],\n",
       "       [38297.29],\n",
       "       [38144.02],\n",
       "       [38623.7 ],\n",
       "       [38409.48],\n",
       "       [38470.61],\n",
       "       [37576.62],\n",
       "       [35634.95],\n",
       "       [35697.4 ],\n",
       "       [32778.14],\n",
       "       [34103.48],\n",
       "       [31390.07],\n",
       "       [30579.09],\n",
       "       [28869.51],\n",
       "       [28288.23],\n",
       "       [29915.96],\n",
       "       [25981.24],\n",
       "       [26674.03],\n",
       "       [28535.78],\n",
       "       [29946.77],\n",
       "       [29815.59],\n",
       "       [28440.32],\n",
       "       [29468.49],\n",
       "       [28265.31],\n",
       "       [27590.95],\n",
       "       [30067.21],\n",
       "       [29893.96],\n",
       "       [31159.62],\n",
       "       [30690.02],\n",
       "       [30379.81],\n",
       "       [30602.61],\n",
       "       [31588.72],\n",
       "       [31648.  ],\n",
       "       [30636.71],\n",
       "       [31379.55],\n",
       "       [31863.08],\n",
       "       [31327.22],\n",
       "       [31743.08],\n",
       "       [32114.52],\n",
       "       [32720.16],\n",
       "       [33717.62],\n",
       "       [31715.35],\n",
       "       [31453.51],\n",
       "       [31685.75],\n",
       "       [31443.38],\n",
       "       [31642.7 ],\n",
       "       [31561.22],\n",
       "       [31371.12],\n",
       "       [32008.61],\n",
       "       [31122.89],\n",
       "       [31097.73],\n",
       "       [30028.98],\n",
       "       [30196.17],\n",
       "       [30818.61],\n",
       "       [30932.9 ],\n",
       "       [30672.59],\n",
       "       [30609.3 ],\n",
       "       [31605.22],\n",
       "       [32200.59],\n",
       "       [32424.1 ],\n",
       "       [33303.52],\n",
       "       [33825.53],\n",
       "       [34109.54],\n",
       "       [33980.7 ],\n",
       "       [34287.24],\n",
       "       [34370.58],\n",
       "       [33956.69],\n",
       "       [34247.05],\n",
       "       [33538.37],\n",
       "       [33780.89],\n",
       "       [33228.8 ],\n",
       "       [33605.22],\n",
       "       [33507.92],\n",
       "       [34208.05],\n",
       "       [34731.73],\n",
       "       [34911.32],\n",
       "       [35430.43],\n",
       "       [34868.98],\n",
       "       [34842.1 ],\n",
       "       [35171.27],\n",
       "       [34961.52],\n",
       "       [34915.8 ],\n",
       "       [35414.45],\n",
       "       [35843.7 ],\n",
       "       [36021.42],\n",
       "       [36487.28],\n",
       "       [36674.52],\n",
       "       [36329.01],\n",
       "       [36737.69],\n",
       "       [36594.33],\n",
       "       [36693.69],\n",
       "       [36033.06],\n",
       "       [36051.81],\n",
       "       [36471.68],\n",
       "       [37020.14],\n",
       "       [37418.99],\n",
       "       [37930.33],\n",
       "       [37871.52],\n",
       "       [38140.47],\n",
       "       [38128.9 ],\n",
       "       [37934.73],\n",
       "       [38492.95],\n",
       "       [38071.13],\n",
       "       [37736.07],\n",
       "       [37606.89],\n",
       "       [36939.6 ],\n",
       "       [37687.91],\n",
       "       [37663.33],\n",
       "       [38025.45],\n",
       "       [38040.57],\n",
       "       [38182.08],\n",
       "       [38407.01],\n",
       "       [38369.63],\n",
       "       [38310.49],\n",
       "       [37877.34],\n",
       "       [38050.78],\n",
       "       [38528.32],\n",
       "       [38614.79],\n",
       "       [38220.39],\n",
       "       [38434.72],\n",
       "       [38799.08],\n",
       "       [38843.88],\n",
       "       [39073.92],\n",
       "       [39113.47],\n",
       "       [39467.31],\n",
       "       [38628.29],\n",
       "       [38900.8 ],\n",
       "       [39086.03],\n",
       "       [38990.94],\n",
       "       [38357.18],\n",
       "       [38417.23],\n",
       "       [38365.35],\n",
       "       [38193.92],\n",
       "       [38840.32],\n",
       "       [38854.55],\n",
       "       [38756.63],\n",
       "       [39044.35],\n",
       "       [39302.85],\n",
       "       [38979.85],\n",
       "       [38845.82],\n",
       "       [38034.14],\n",
       "       [37734.08],\n",
       "       [37668.42],\n",
       "       [36553.6 ],\n",
       "       [37388.66],\n",
       "       [37981.63],\n",
       "       [37973.22],\n",
       "       [38067.93],\n",
       "       [38697.05],\n",
       "       [38973.7 ],\n",
       "       [39574.57],\n",
       "       [39878.95],\n",
       "       [40182.67],\n",
       "       [40509.49],\n",
       "       [40593.8 ],\n",
       "       [40625.51],\n",
       "       [40794.74],\n",
       "       [39728.41],\n",
       "       [39982.98],\n",
       "       [40431.6 ],\n",
       "       [40544.37],\n",
       "       [40707.31],\n",
       "       [40558.49],\n",
       "       [40685.5 ],\n",
       "       [40145.5 ],\n",
       "       [40522.1 ],\n",
       "       [39922.46],\n",
       "       [39749.85],\n",
       "       [39614.07],\n",
       "       [39757.58],\n",
       "       [40261.13],\n",
       "       [40616.14],\n",
       "       [41340.16],\n",
       "       [41893.06],\n",
       "       [42597.43],\n",
       "       [43277.65],\n",
       "       [43593.67],\n",
       "       [43357.19],\n",
       "       [43443.  ],\n",
       "       [43952.71],\n",
       "       [44180.05],\n",
       "       [43599.96],\n",
       "       [43882.25],\n",
       "       [44077.15],\n",
       "       [44523.02],\n",
       "       [43828.1 ],\n",
       "       [44259.74],\n",
       "       [44149.72],\n",
       "       [44655.44],\n",
       "       [44618.04],\n",
       "       [44632.65],\n",
       "       [45079.55],\n",
       "       [45426.97],\n",
       "       [45608.51],\n",
       "       [46103.5 ],\n",
       "       [45959.88],\n",
       "       [46099.01],\n",
       "       [46253.46],\n",
       "       [46263.17],\n",
       "       [46666.46],\n",
       "       [46890.34]], dtype=float32)"
      ]
     },
     "execution_count": 20,
     "metadata": {},
     "output_type": "execute_result"
    }
   ],
   "source": [
    "df2"
   ]
  },
  {
   "cell_type": "code",
   "execution_count": 21,
   "id": "ac9524b5",
   "metadata": {},
   "outputs": [
    {
     "data": {
      "text/plain": [
       "(250, 1)"
      ]
     },
     "execution_count": 21,
     "metadata": {},
     "output_type": "execute_result"
    }
   ],
   "source": [
    "df2.shape"
   ]
  },
  {
   "cell_type": "code",
   "execution_count": 35,
   "id": "099de36a",
   "metadata": {},
   "outputs": [],
   "source": [
    "# Converting array values into a dataset matrix\n",
    "def dataset_matrix(df2, look_back=1):\n",
    "    dataX, dataY = [], []\n",
    "    for i in range(len(df2)-look_back-1):\n",
    "        a = df2[i:(i+look_back), 0]\n",
    "        dataX.append(a)\n",
    "        dataY.append(df2[i + look_back, 0])\n",
    "    return np.array(dataX), np.array(dataY)"
   ]
  },
  {
   "cell_type": "markdown",
   "id": "0697085f",
   "metadata": {},
   "source": [
    "### Step 4: Train Test Split"
   ]
  },
  {
   "cell_type": "markdown",
   "id": "c4be1dc8",
   "metadata": {},
   "source": [
    "Normalizing the Dataset: Rescaling real-valued numeric values into a 0 to 1 range"
   ]
  },
  {
   "cell_type": "code",
   "execution_count": 36,
   "id": "7f8af5d9",
   "metadata": {},
   "outputs": [],
   "source": [
    "scaler = MinMaxScaler(feature_range=(0, 1))\n",
    "df2 = scaler.fit_transform(df2)"
   ]
  },
  {
   "cell_type": "code",
   "execution_count": 37,
   "id": "bf04821c",
   "metadata": {},
   "outputs": [],
   "source": [
    "train_size = int(len(df2) * 0.67)\n",
    "test_size = len(df2) - train_size\n",
    "train, test = df2[0:train_size,:], df2[train_size:len(df2),:]"
   ]
  },
  {
   "cell_type": "code",
   "execution_count": 43,
   "id": "91d4f5ed",
   "metadata": {},
   "outputs": [],
   "source": [
    "# reshape into X=t and Y=t+1\n",
    "look_back = 3\n",
    "trainX, trainY = dataset_matrix(train, look_back)\n",
    "testX, testY = dataset_matrix(test, look_back)\n",
    "# reshape input to be [samples, time steps, features]\n",
    "trainX = np.reshape(trainX, (trainX.shape[0], trainX.shape[1], 1))\n",
    "testX = np.reshape(testX, (testX.shape[0], testX.shape[1], 1))"
   ]
  },
  {
   "cell_type": "markdown",
   "id": "646935c6",
   "metadata": {},
   "source": [
    "## Numerical Analysis"
   ]
  },
  {
   "cell_type": "markdown",
   "id": "ccc89f4c",
   "metadata": {},
   "source": [
    "### Long Short Term Memory Network (LSTM)"
   ]
  },
  {
   "cell_type": "code",
   "execution_count": 44,
   "id": "38a28f45",
   "metadata": {},
   "outputs": [],
   "source": [
    "# Converting array values into a dataset matrix\n",
    "def dataset_matrix(df2, look_back=1):\n",
    "    dataX, dataY = [], []\n",
    "    for i in range(len(df2)-look_back-1):\n",
    "        a = df2[i:(i+look_back), 0]\n",
    "        dataX.append(a)\n",
    "        dataY.append(df2[i + look_back, 0])\n",
    "    return np.array(dataX), np.array(dataY)"
   ]
  },
  {
   "cell_type": "code",
   "execution_count": 45,
   "id": "5ccf0d3f",
   "metadata": {},
   "outputs": [
    {
     "name": "stdout",
     "output_type": "stream",
     "text": [
      "Epoch 1/100\n",
      "163/163 - 3s - loss: 0.0573 - 3s/epoch - 20ms/step\n",
      "Epoch 2/100\n",
      "163/163 - 0s - loss: 0.0088 - 264ms/epoch - 2ms/step\n",
      "Epoch 3/100\n",
      "163/163 - 0s - loss: 0.0051 - 250ms/epoch - 2ms/step\n",
      "Epoch 4/100\n",
      "163/163 - 0s - loss: 0.0028 - 238ms/epoch - 1ms/step\n",
      "Epoch 5/100\n",
      "163/163 - 0s - loss: 0.0020 - 235ms/epoch - 1ms/step\n",
      "Epoch 6/100\n",
      "163/163 - 0s - loss: 0.0019 - 235ms/epoch - 1ms/step\n",
      "Epoch 7/100\n",
      "163/163 - 0s - loss: 0.0018 - 248ms/epoch - 2ms/step\n",
      "Epoch 8/100\n",
      "163/163 - 0s - loss: 0.0018 - 281ms/epoch - 2ms/step\n",
      "Epoch 9/100\n",
      "163/163 - 0s - loss: 0.0018 - 300ms/epoch - 2ms/step\n",
      "Epoch 10/100\n",
      "163/163 - 0s - loss: 0.0020 - 288ms/epoch - 2ms/step\n",
      "Epoch 11/100\n",
      "163/163 - 0s - loss: 0.0019 - 283ms/epoch - 2ms/step\n",
      "Epoch 12/100\n",
      "163/163 - 0s - loss: 0.0018 - 230ms/epoch - 1ms/step\n",
      "Epoch 13/100\n",
      "163/163 - 0s - loss: 0.0019 - 232ms/epoch - 1ms/step\n",
      "Epoch 14/100\n",
      "163/163 - 0s - loss: 0.0018 - 234ms/epoch - 1ms/step\n",
      "Epoch 15/100\n",
      "163/163 - 0s - loss: 0.0019 - 249ms/epoch - 2ms/step\n",
      "Epoch 16/100\n",
      "163/163 - 0s - loss: 0.0018 - 235ms/epoch - 1ms/step\n",
      "Epoch 17/100\n",
      "163/163 - 0s - loss: 0.0019 - 261ms/epoch - 2ms/step\n",
      "Epoch 18/100\n",
      "163/163 - 0s - loss: 0.0019 - 259ms/epoch - 2ms/step\n",
      "Epoch 19/100\n",
      "163/163 - 0s - loss: 0.0019 - 236ms/epoch - 1ms/step\n",
      "Epoch 20/100\n",
      "163/163 - 0s - loss: 0.0018 - 240ms/epoch - 1ms/step\n",
      "Epoch 21/100\n",
      "163/163 - 0s - loss: 0.0018 - 250ms/epoch - 2ms/step\n",
      "Epoch 22/100\n",
      "163/163 - 0s - loss: 0.0018 - 240ms/epoch - 1ms/step\n",
      "Epoch 23/100\n",
      "163/163 - 0s - loss: 0.0018 - 260ms/epoch - 2ms/step\n",
      "Epoch 24/100\n",
      "163/163 - 0s - loss: 0.0018 - 266ms/epoch - 2ms/step\n",
      "Epoch 25/100\n",
      "163/163 - 0s - loss: 0.0018 - 266ms/epoch - 2ms/step\n",
      "Epoch 26/100\n",
      "163/163 - 0s - loss: 0.0018 - 263ms/epoch - 2ms/step\n",
      "Epoch 27/100\n",
      "163/163 - 0s - loss: 0.0018 - 248ms/epoch - 2ms/step\n",
      "Epoch 28/100\n",
      "163/163 - 0s - loss: 0.0017 - 261ms/epoch - 2ms/step\n",
      "Epoch 29/100\n",
      "163/163 - 0s - loss: 0.0018 - 293ms/epoch - 2ms/step\n",
      "Epoch 30/100\n",
      "163/163 - 0s - loss: 0.0019 - 234ms/epoch - 1ms/step\n",
      "Epoch 31/100\n",
      "163/163 - 0s - loss: 0.0018 - 234ms/epoch - 1ms/step\n",
      "Epoch 32/100\n",
      "163/163 - 0s - loss: 0.0018 - 262ms/epoch - 2ms/step\n",
      "Epoch 33/100\n",
      "163/163 - 0s - loss: 0.0017 - 249ms/epoch - 2ms/step\n",
      "Epoch 34/100\n",
      "163/163 - 0s - loss: 0.0018 - 239ms/epoch - 1ms/step\n",
      "Epoch 35/100\n",
      "163/163 - 0s - loss: 0.0018 - 251ms/epoch - 2ms/step\n",
      "Epoch 36/100\n",
      "163/163 - 0s - loss: 0.0017 - 252ms/epoch - 2ms/step\n",
      "Epoch 37/100\n",
      "163/163 - 0s - loss: 0.0017 - 259ms/epoch - 2ms/step\n",
      "Epoch 38/100\n",
      "163/163 - 0s - loss: 0.0017 - 260ms/epoch - 2ms/step\n",
      "Epoch 39/100\n",
      "163/163 - 0s - loss: 0.0017 - 252ms/epoch - 2ms/step\n",
      "Epoch 40/100\n",
      "163/163 - 0s - loss: 0.0018 - 245ms/epoch - 2ms/step\n",
      "Epoch 41/100\n",
      "163/163 - 0s - loss: 0.0017 - 254ms/epoch - 2ms/step\n",
      "Epoch 42/100\n",
      "163/163 - 0s - loss: 0.0018 - 257ms/epoch - 2ms/step\n",
      "Epoch 43/100\n",
      "163/163 - 0s - loss: 0.0017 - 232ms/epoch - 1ms/step\n",
      "Epoch 44/100\n",
      "163/163 - 0s - loss: 0.0017 - 229ms/epoch - 1ms/step\n",
      "Epoch 45/100\n",
      "163/163 - 0s - loss: 0.0017 - 233ms/epoch - 1ms/step\n",
      "Epoch 46/100\n",
      "163/163 - 0s - loss: 0.0017 - 235ms/epoch - 1ms/step\n",
      "Epoch 47/100\n",
      "163/163 - 0s - loss: 0.0017 - 231ms/epoch - 1ms/step\n",
      "Epoch 48/100\n",
      "163/163 - 0s - loss: 0.0016 - 233ms/epoch - 1ms/step\n",
      "Epoch 49/100\n",
      "163/163 - 0s - loss: 0.0017 - 238ms/epoch - 1ms/step\n",
      "Epoch 50/100\n",
      "163/163 - 0s - loss: 0.0017 - 232ms/epoch - 1ms/step\n",
      "Epoch 51/100\n",
      "163/163 - 0s - loss: 0.0017 - 232ms/epoch - 1ms/step\n",
      "Epoch 52/100\n",
      "163/163 - 0s - loss: 0.0017 - 236ms/epoch - 1ms/step\n",
      "Epoch 53/100\n",
      "163/163 - 0s - loss: 0.0016 - 238ms/epoch - 1ms/step\n",
      "Epoch 54/100\n",
      "163/163 - 0s - loss: 0.0016 - 225ms/epoch - 1ms/step\n",
      "Epoch 55/100\n",
      "163/163 - 0s - loss: 0.0017 - 234ms/epoch - 1ms/step\n",
      "Epoch 56/100\n",
      "163/163 - 0s - loss: 0.0016 - 233ms/epoch - 1ms/step\n",
      "Epoch 57/100\n",
      "163/163 - 0s - loss: 0.0016 - 231ms/epoch - 1ms/step\n",
      "Epoch 58/100\n",
      "163/163 - 0s - loss: 0.0016 - 232ms/epoch - 1ms/step\n",
      "Epoch 59/100\n",
      "163/163 - 0s - loss: 0.0016 - 231ms/epoch - 1ms/step\n",
      "Epoch 60/100\n",
      "163/163 - 0s - loss: 0.0016 - 238ms/epoch - 1ms/step\n",
      "Epoch 61/100\n",
      "163/163 - 0s - loss: 0.0016 - 234ms/epoch - 1ms/step\n",
      "Epoch 62/100\n",
      "163/163 - 0s - loss: 0.0015 - 232ms/epoch - 1ms/step\n",
      "Epoch 63/100\n",
      "163/163 - 0s - loss: 0.0016 - 234ms/epoch - 1ms/step\n",
      "Epoch 64/100\n",
      "163/163 - 0s - loss: 0.0016 - 233ms/epoch - 1ms/step\n",
      "Epoch 65/100\n",
      "163/163 - 0s - loss: 0.0017 - 231ms/epoch - 1ms/step\n",
      "Epoch 66/100\n",
      "163/163 - 0s - loss: 0.0016 - 235ms/epoch - 1ms/step\n",
      "Epoch 67/100\n",
      "163/163 - 0s - loss: 0.0016 - 237ms/epoch - 1ms/step\n",
      "Epoch 68/100\n",
      "163/163 - 0s - loss: 0.0016 - 230ms/epoch - 1ms/step\n",
      "Epoch 69/100\n",
      "163/163 - 0s - loss: 0.0016 - 233ms/epoch - 1ms/step\n",
      "Epoch 70/100\n",
      "163/163 - 0s - loss: 0.0015 - 232ms/epoch - 1ms/step\n",
      "Epoch 71/100\n",
      "163/163 - 0s - loss: 0.0015 - 223ms/epoch - 1ms/step\n",
      "Epoch 72/100\n",
      "163/163 - 0s - loss: 0.0015 - 233ms/epoch - 1ms/step\n",
      "Epoch 73/100\n",
      "163/163 - 0s - loss: 0.0015 - 262ms/epoch - 2ms/step\n",
      "Epoch 74/100\n",
      "163/163 - 0s - loss: 0.0015 - 292ms/epoch - 2ms/step\n",
      "Epoch 75/100\n",
      "163/163 - 0s - loss: 0.0015 - 284ms/epoch - 2ms/step\n",
      "Epoch 76/100\n",
      "163/163 - 0s - loss: 0.0015 - 278ms/epoch - 2ms/step\n",
      "Epoch 77/100\n",
      "163/163 - 0s - loss: 0.0016 - 234ms/epoch - 1ms/step\n",
      "Epoch 78/100\n",
      "163/163 - 0s - loss: 0.0015 - 223ms/epoch - 1ms/step\n",
      "Epoch 79/100\n",
      "163/163 - 0s - loss: 0.0014 - 230ms/epoch - 1ms/step\n",
      "Epoch 80/100\n",
      "163/163 - 0s - loss: 0.0015 - 234ms/epoch - 1ms/step\n",
      "Epoch 81/100\n",
      "163/163 - 0s - loss: 0.0015 - 230ms/epoch - 1ms/step\n",
      "Epoch 82/100\n",
      "163/163 - 0s - loss: 0.0015 - 229ms/epoch - 1ms/step\n",
      "Epoch 83/100\n",
      "163/163 - 0s - loss: 0.0015 - 236ms/epoch - 1ms/step\n",
      "Epoch 84/100\n",
      "163/163 - 0s - loss: 0.0015 - 233ms/epoch - 1ms/step\n",
      "Epoch 85/100\n",
      "163/163 - 0s - loss: 0.0014 - 233ms/epoch - 1ms/step\n",
      "Epoch 86/100\n",
      "163/163 - 0s - loss: 0.0014 - 228ms/epoch - 1ms/step\n",
      "Epoch 87/100\n",
      "163/163 - 0s - loss: 0.0015 - 233ms/epoch - 1ms/step\n",
      "Epoch 88/100\n",
      "163/163 - 0s - loss: 0.0015 - 231ms/epoch - 1ms/step\n",
      "Epoch 89/100\n",
      "163/163 - 0s - loss: 0.0015 - 231ms/epoch - 1ms/step\n",
      "Epoch 90/100\n",
      "163/163 - 0s - loss: 0.0014 - 231ms/epoch - 1ms/step\n",
      "Epoch 91/100\n",
      "163/163 - 0s - loss: 0.0014 - 232ms/epoch - 1ms/step\n",
      "Epoch 92/100\n",
      "163/163 - 0s - loss: 0.0015 - 233ms/epoch - 1ms/step\n",
      "Epoch 93/100\n",
      "163/163 - 0s - loss: 0.0014 - 234ms/epoch - 1ms/step\n",
      "Epoch 94/100\n",
      "163/163 - 0s - loss: 0.0015 - 231ms/epoch - 1ms/step\n",
      "Epoch 95/100\n",
      "163/163 - 0s - loss: 0.0014 - 234ms/epoch - 1ms/step\n",
      "Epoch 96/100\n",
      "163/163 - 0s - loss: 0.0014 - 235ms/epoch - 1ms/step\n",
      "Epoch 97/100\n",
      "163/163 - 0s - loss: 0.0014 - 233ms/epoch - 1ms/step\n",
      "Epoch 98/100\n",
      "163/163 - 0s - loss: 0.0014 - 233ms/epoch - 1ms/step\n",
      "Epoch 99/100\n",
      "163/163 - 0s - loss: 0.0014 - 235ms/epoch - 1ms/step\n",
      "Epoch 100/100\n",
      "163/163 - 0s - loss: 0.0013 - 223ms/epoch - 1ms/step\n"
     ]
    },
    {
     "data": {
      "text/plain": [
       "<keras.callbacks.History at 0x21fb8a80d90>"
      ]
     },
     "execution_count": 45,
     "metadata": {},
     "output_type": "execute_result"
    }
   ],
   "source": [
    "# create and fit the LSTM network\n",
    "model = Sequential()\n",
    "model.add(LSTM(7, input_shape=(look_back, 1)))\n",
    "model.add(Dense(1))\n",
    "model.compile(loss='mean_squared_error', optimizer='adam')\n",
    "model.fit(trainX, trainY, epochs=100, batch_size=1, verbose=2)"
   ]
  },
  {
   "cell_type": "markdown",
   "id": "8de14222",
   "metadata": {},
   "source": [
    "Making Predictions"
   ]
  },
  {
   "cell_type": "code",
   "execution_count": 46,
   "id": "f09083e7",
   "metadata": {},
   "outputs": [
    {
     "name": "stdout",
     "output_type": "stream",
     "text": [
      "6/6 [==============================] - 2s 2ms/step\n",
      "3/3 [==============================] - 0s 2ms/step\n"
     ]
    }
   ],
   "source": [
    "trainPredict = model.predict(trainX)\n",
    "testPredict = model.predict(testX)\n",
    "# invert predictions\n",
    "trainPredict = scaler.inverse_transform(trainPredict)\n",
    "trainY = scaler.inverse_transform([trainY])\n",
    "testPredict = scaler.inverse_transform(testPredict)\n",
    "testY = scaler.inverse_transform([testY])"
   ]
  },
  {
   "cell_type": "markdown",
   "id": "e390370c",
   "metadata": {},
   "source": [
    "### Step 6: Making Predictions Using the Model"
   ]
  },
  {
   "cell_type": "code",
   "execution_count": 47,
   "id": "55ca9800",
   "metadata": {},
   "outputs": [
    {
     "data": {
      "image/png": "[encoded data removed]",
      "text/plain": [
       "<Figure size 432x288 with 1 Axes>"
      ]
     },
     "metadata": {
      "needs_background": "light"
     },
     "output_type": "display_data"
    }
   ],
   "source": [
    "# shift train predictions for plotting\n",
    "trainPredictPlot = np.empty_like(df2)\n",
    "trainPredictPlot[:, :] = np.nan\n",
    "trainPredictPlot[look_back:len(trainPredict)+look_back, :] = trainPredict\n",
    "# shift test predictions for plotting\n",
    "testPredictPlot = np.empty_like(df2)\n",
    "testPredictPlot[:, :] = np.nan\n",
    "testPredictPlot[len(trainPredict)+(look_back*2)+1:len(df2)-1, :] = testPredict\n",
    "# plot baseline and predictions\n",
    "plt.plot(scaler.inverse_transform(df2))\n",
    "plt.plot(trainPredictPlot,color='red')\n",
    "plt.plot(testPredictPlot,color='green')\n",
    "plt.show()"
   ]
  },
  {
   "cell_type": "code",
   "execution_count": 48,
   "id": "412cd2f6",
   "metadata": {},
   "outputs": [
    {
     "name": "stdout",
     "output_type": "stream",
     "text": [
      "Root mean square error =  0.03953976570671428  RMSE\n",
      "Root mean square error =  0.038553687405783875  RMSE\n"
     ]
    }
   ],
   "source": [
    "# calculate root mean squared error\n",
    "trainScore = math.sqrt(mean_squared_error(trainY[0], trainPredict[:,0]))\n",
    "print(\"Root mean square error = \",trainScore,\" RMSE\")\n",
    "testScore = math.sqrt(mean_squared_error(testY[0], testPredict[:,0]))\n",
    "print(\"Root mean square error = \",testScore,\" RMSE\")\n"
   ]
  },
  {
   "cell_type": "markdown",
   "id": "598279c6",
   "metadata": {},
   "source": [
    "### Step 7 : Creating a Hybrid model for Numerical and textual Analysis"
   ]
  },
  {
   "cell_type": "code",
   "execution_count": 49,
   "id": "ce8519ca",
   "metadata": {},
   "outputs": [
    {
     "name": "stderr",
     "output_type": "stream",
     "text": [
      "C:\\Users\\Rimjhim\\AppData\\Local\\Temp/ipykernel_5236/1851358816.py:4: DtypeWarning: Columns (0) have mixed types. Specify dtype option on import or set low_memory=False.\n",
      "  news = pd.read_csv('D:/rimjhim/The Sparks Foundation Internship/Task 7/india-news-headlines.csv', names = columns)\n"
     ]
    },
    {
     "data": {
      "text/html": [
       "<div>\n",
       "<style scoped>\n",
       "    .dataframe tbody tr th:only-of-type {\n",
       "        vertical-align: middle;\n",
       "    }\n",
       "\n",
       "    .dataframe tbody tr th {\n",
       "        vertical-align: top;\n",
       "    }\n",
       "\n",
       "    .dataframe thead th {\n",
       "        text-align: right;\n",
       "    }\n",
       "</style>\n",
       "<table border=\"1\" class=\"dataframe\">\n",
       "  <thead>\n",
       "    <tr style=\"text-align: right;\">\n",
       "      <th></th>\n",
       "      <th>Date</th>\n",
       "      <th>Category</th>\n",
       "      <th>News</th>\n",
       "    </tr>\n",
       "  </thead>\n",
       "  <tbody>\n",
       "    <tr>\n",
       "      <th>0</th>\n",
       "      <td>publish_date</td>\n",
       "      <td>headline_category</td>\n",
       "      <td>headline_text</td>\n",
       "    </tr>\n",
       "    <tr>\n",
       "      <th>1</th>\n",
       "      <td>20010102</td>\n",
       "      <td>unknown</td>\n",
       "      <td>Status quo will not be disturbed at Ayodhya; s...</td>\n",
       "    </tr>\n",
       "    <tr>\n",
       "      <th>2</th>\n",
       "      <td>20010102</td>\n",
       "      <td>unknown</td>\n",
       "      <td>Fissures in Hurriyat over Pak visit</td>\n",
       "    </tr>\n",
       "    <tr>\n",
       "      <th>3</th>\n",
       "      <td>20010102</td>\n",
       "      <td>unknown</td>\n",
       "      <td>America's unwanted heading for India?</td>\n",
       "    </tr>\n",
       "    <tr>\n",
       "      <th>4</th>\n",
       "      <td>20010102</td>\n",
       "      <td>unknown</td>\n",
       "      <td>For bigwigs; it is destination Goa</td>\n",
       "    </tr>\n",
       "    <tr>\n",
       "      <th>...</th>\n",
       "      <td>...</td>\n",
       "      <td>...</td>\n",
       "      <td>...</td>\n",
       "    </tr>\n",
       "    <tr>\n",
       "      <th>3650966</th>\n",
       "      <td>20220331</td>\n",
       "      <td>city.srinagar</td>\n",
       "      <td>J&amp;K sacks 2 cops; 3 other employees over terro...</td>\n",
       "    </tr>\n",
       "    <tr>\n",
       "      <th>3650967</th>\n",
       "      <td>20220331</td>\n",
       "      <td>entertainment.hindi.bollywood</td>\n",
       "      <td>Ranbir Kapoor says 'Rishi Kapoor enjoyed his a...</td>\n",
       "    </tr>\n",
       "    <tr>\n",
       "      <th>3650968</th>\n",
       "      <td>20220331</td>\n",
       "      <td>city.trichy</td>\n",
       "      <td>As Covid-19 cases drop to nil in southern dist...</td>\n",
       "    </tr>\n",
       "    <tr>\n",
       "      <th>3650969</th>\n",
       "      <td>20220331</td>\n",
       "      <td>city.erode</td>\n",
       "      <td>Tamil Nadu sees marginal rise of Covid cases w...</td>\n",
       "    </tr>\n",
       "    <tr>\n",
       "      <th>3650970</th>\n",
       "      <td>20220331</td>\n",
       "      <td>city.salem</td>\n",
       "      <td>Tamil Nadu sees marginal rise of Covid cases w...</td>\n",
       "    </tr>\n",
       "  </tbody>\n",
       "</table>\n",
       "<p>3650971 rows × 3 columns</p>\n",
       "</div>"
      ],
      "text/plain": [
       "                 Date                       Category  \\\n",
       "0        publish_date              headline_category   \n",
       "1            20010102                        unknown   \n",
       "2            20010102                        unknown   \n",
       "3            20010102                        unknown   \n",
       "4            20010102                        unknown   \n",
       "...               ...                            ...   \n",
       "3650966      20220331                  city.srinagar   \n",
       "3650967      20220331  entertainment.hindi.bollywood   \n",
       "3650968      20220331                    city.trichy   \n",
       "3650969      20220331                     city.erode   \n",
       "3650970      20220331                     city.salem   \n",
       "\n",
       "                                                      News  \n",
       "0                                            headline_text  \n",
       "1        Status quo will not be disturbed at Ayodhya; s...  \n",
       "2                      Fissures in Hurriyat over Pak visit  \n",
       "3                    America's unwanted heading for India?  \n",
       "4                       For bigwigs; it is destination Goa  \n",
       "...                                                    ...  \n",
       "3650966  J&K sacks 2 cops; 3 other employees over terro...  \n",
       "3650967  Ranbir Kapoor says 'Rishi Kapoor enjoyed his a...  \n",
       "3650968  As Covid-19 cases drop to nil in southern dist...  \n",
       "3650969  Tamil Nadu sees marginal rise of Covid cases w...  \n",
       "3650970  Tamil Nadu sees marginal rise of Covid cases w...  \n",
       "\n",
       "[3650971 rows x 3 columns]"
      ]
     },
     "execution_count": 49,
     "metadata": {},
     "output_type": "execute_result"
    }
   ],
   "source": [
    "#Text Analysis\n",
    "\n",
    "columns = ['Date','Category','News']\n",
    "news = pd.read_csv('D:/rimjhim/The Sparks Foundation Internship/Task 7/india-news-headlines.csv', names = columns)\n",
    "news"
   ]
  },
  {
   "cell_type": "code",
   "execution_count": 50,
   "id": "eb24df60",
   "metadata": {},
   "outputs": [
    {
     "data": {
      "text/plain": [
       "<bound method NDFrame.describe of                  Date                       Category  \\\n",
       "0        publish_date              headline_category   \n",
       "1            20010102                        unknown   \n",
       "2            20010102                        unknown   \n",
       "3            20010102                        unknown   \n",
       "4            20010102                        unknown   \n",
       "...               ...                            ...   \n",
       "3650966      20220331                  city.srinagar   \n",
       "3650967      20220331  entertainment.hindi.bollywood   \n",
       "3650968      20220331                    city.trichy   \n",
       "3650969      20220331                     city.erode   \n",
       "3650970      20220331                     city.salem   \n",
       "\n",
       "                                                      News  \n",
       "0                                            headline_text  \n",
       "1        Status quo will not be disturbed at Ayodhya; s...  \n",
       "2                      Fissures in Hurriyat over Pak visit  \n",
       "3                    America's unwanted heading for India?  \n",
       "4                       For bigwigs; it is destination Goa  \n",
       "...                                                    ...  \n",
       "3650966  J&K sacks 2 cops; 3 other employees over terro...  \n",
       "3650967  Ranbir Kapoor says 'Rishi Kapoor enjoyed his a...  \n",
       "3650968  As Covid-19 cases drop to nil in southern dist...  \n",
       "3650969  Tamil Nadu sees marginal rise of Covid cases w...  \n",
       "3650970  Tamil Nadu sees marginal rise of Covid cases w...  \n",
       "\n",
       "[3650971 rows x 3 columns]>"
      ]
     },
     "execution_count": 50,
     "metadata": {},
     "output_type": "execute_result"
    }
   ],
   "source": [
    "news.describe"
   ]
  },
  {
   "cell_type": "code",
   "execution_count": 51,
   "id": "7b0ddfcb",
   "metadata": {},
   "outputs": [
    {
     "data": {
      "text/plain": [
       "(3650971, 3)"
      ]
     },
     "execution_count": 51,
     "metadata": {},
     "output_type": "execute_result"
    }
   ],
   "source": [
    "news.shape"
   ]
  },
  {
   "cell_type": "code",
   "execution_count": 52,
   "id": "465368fa",
   "metadata": {},
   "outputs": [
    {
     "data": {
      "text/plain": [
       "<bound method DataFrame.info of                  Date                       Category  \\\n",
       "0        publish_date              headline_category   \n",
       "1            20010102                        unknown   \n",
       "2            20010102                        unknown   \n",
       "3            20010102                        unknown   \n",
       "4            20010102                        unknown   \n",
       "...               ...                            ...   \n",
       "3650966      20220331                  city.srinagar   \n",
       "3650967      20220331  entertainment.hindi.bollywood   \n",
       "3650968      20220331                    city.trichy   \n",
       "3650969      20220331                     city.erode   \n",
       "3650970      20220331                     city.salem   \n",
       "\n",
       "                                                      News  \n",
       "0                                            headline_text  \n",
       "1        Status quo will not be disturbed at Ayodhya; s...  \n",
       "2                      Fissures in Hurriyat over Pak visit  \n",
       "3                    America's unwanted heading for India?  \n",
       "4                       For bigwigs; it is destination Goa  \n",
       "...                                                    ...  \n",
       "3650966  J&K sacks 2 cops; 3 other employees over terro...  \n",
       "3650967  Ranbir Kapoor says 'Rishi Kapoor enjoyed his a...  \n",
       "3650968  As Covid-19 cases drop to nil in southern dist...  \n",
       "3650969  Tamil Nadu sees marginal rise of Covid cases w...  \n",
       "3650970  Tamil Nadu sees marginal rise of Covid cases w...  \n",
       "\n",
       "[3650971 rows x 3 columns]>"
      ]
     },
     "execution_count": 52,
     "metadata": {},
     "output_type": "execute_result"
    }
   ],
   "source": [
    "news.info"
   ]
  },
  {
   "cell_type": "code",
   "execution_count": 53,
   "id": "fa8cc1ff",
   "metadata": {},
   "outputs": [
    {
     "data": {
      "text/html": [
       "<div>\n",
       "<style scoped>\n",
       "    .dataframe tbody tr th:only-of-type {\n",
       "        vertical-align: middle;\n",
       "    }\n",
       "\n",
       "    .dataframe tbody tr th {\n",
       "        vertical-align: top;\n",
       "    }\n",
       "\n",
       "    .dataframe thead th {\n",
       "        text-align: right;\n",
       "    }\n",
       "</style>\n",
       "<table border=\"1\" class=\"dataframe\">\n",
       "  <thead>\n",
       "    <tr style=\"text-align: right;\">\n",
       "      <th></th>\n",
       "      <th>Date</th>\n",
       "      <th>Category</th>\n",
       "      <th>News</th>\n",
       "    </tr>\n",
       "  </thead>\n",
       "  <tbody>\n",
       "    <tr>\n",
       "      <th>0</th>\n",
       "      <td>False</td>\n",
       "      <td>False</td>\n",
       "      <td>False</td>\n",
       "    </tr>\n",
       "    <tr>\n",
       "      <th>1</th>\n",
       "      <td>False</td>\n",
       "      <td>False</td>\n",
       "      <td>False</td>\n",
       "    </tr>\n",
       "    <tr>\n",
       "      <th>2</th>\n",
       "      <td>False</td>\n",
       "      <td>False</td>\n",
       "      <td>False</td>\n",
       "    </tr>\n",
       "    <tr>\n",
       "      <th>3</th>\n",
       "      <td>False</td>\n",
       "      <td>False</td>\n",
       "      <td>False</td>\n",
       "    </tr>\n",
       "    <tr>\n",
       "      <th>4</th>\n",
       "      <td>False</td>\n",
       "      <td>False</td>\n",
       "      <td>False</td>\n",
       "    </tr>\n",
       "    <tr>\n",
       "      <th>...</th>\n",
       "      <td>...</td>\n",
       "      <td>...</td>\n",
       "      <td>...</td>\n",
       "    </tr>\n",
       "    <tr>\n",
       "      <th>3650966</th>\n",
       "      <td>False</td>\n",
       "      <td>False</td>\n",
       "      <td>False</td>\n",
       "    </tr>\n",
       "    <tr>\n",
       "      <th>3650967</th>\n",
       "      <td>False</td>\n",
       "      <td>False</td>\n",
       "      <td>False</td>\n",
       "    </tr>\n",
       "    <tr>\n",
       "      <th>3650968</th>\n",
       "      <td>False</td>\n",
       "      <td>False</td>\n",
       "      <td>False</td>\n",
       "    </tr>\n",
       "    <tr>\n",
       "      <th>3650969</th>\n",
       "      <td>False</td>\n",
       "      <td>False</td>\n",
       "      <td>False</td>\n",
       "    </tr>\n",
       "    <tr>\n",
       "      <th>3650970</th>\n",
       "      <td>False</td>\n",
       "      <td>False</td>\n",
       "      <td>False</td>\n",
       "    </tr>\n",
       "  </tbody>\n",
       "</table>\n",
       "<p>3650971 rows × 3 columns</p>\n",
       "</div>"
      ],
      "text/plain": [
       "          Date  Category   News\n",
       "0        False     False  False\n",
       "1        False     False  False\n",
       "2        False     False  False\n",
       "3        False     False  False\n",
       "4        False     False  False\n",
       "...        ...       ...    ...\n",
       "3650966  False     False  False\n",
       "3650967  False     False  False\n",
       "3650968  False     False  False\n",
       "3650969  False     False  False\n",
       "3650970  False     False  False\n",
       "\n",
       "[3650971 rows x 3 columns]"
      ]
     },
     "execution_count": 53,
     "metadata": {},
     "output_type": "execute_result"
    }
   ],
   "source": [
    "news.isnull()"
   ]
  },
  {
   "cell_type": "code",
   "execution_count": 54,
   "id": "d00e9502",
   "metadata": {},
   "outputs": [
    {
     "data": {
      "text/plain": [
       "Date        0\n",
       "Category    0\n",
       "News        0\n",
       "dtype: int64"
      ]
     },
     "execution_count": 54,
     "metadata": {},
     "output_type": "execute_result"
    }
   ],
   "source": [
    "news.isnull().sum()"
   ]
  },
  {
   "cell_type": "markdown",
   "id": "3544f569",
   "metadata": {},
   "source": [
    "### Step 8: Text Preprocessing"
   ]
  },
  {
   "cell_type": "code",
   "execution_count": 55,
   "id": "cc70461a",
   "metadata": {},
   "outputs": [
    {
     "name": "stdout",
     "output_type": "stream",
     "text": [
      "<class 'pandas.core.frame.DataFrame'>\n",
      "RangeIndex: 3650970 entries, 1 to 3650970\n",
      "Data columns (total 2 columns):\n",
      " #   Column  Dtype \n",
      "---  ------  ----- \n",
      " 0   Date    object\n",
      " 1   News    object\n",
      "dtypes: object(2)\n",
      "memory usage: 55.7+ MB\n"
     ]
    }
   ],
   "source": [
    "news.drop(0, inplace=True)\n",
    "news.drop('Category', axis = 1, inplace=True)\n",
    "news.info()"
   ]
  },
  {
   "cell_type": "code",
   "execution_count": 56,
   "id": "e852c141",
   "metadata": {},
   "outputs": [
    {
     "data": {
      "text/html": [
       "<div>\n",
       "<style scoped>\n",
       "    .dataframe tbody tr th:only-of-type {\n",
       "        vertical-align: middle;\n",
       "    }\n",
       "\n",
       "    .dataframe tbody tr th {\n",
       "        vertical-align: top;\n",
       "    }\n",
       "\n",
       "    .dataframe thead th {\n",
       "        text-align: right;\n",
       "    }\n",
       "</style>\n",
       "<table border=\"1\" class=\"dataframe\">\n",
       "  <thead>\n",
       "    <tr style=\"text-align: right;\">\n",
       "      <th></th>\n",
       "      <th>Date</th>\n",
       "      <th>News</th>\n",
       "    </tr>\n",
       "  </thead>\n",
       "  <tbody>\n",
       "    <tr>\n",
       "      <th>1</th>\n",
       "      <td>2001-01-02 00:00:00.000000000</td>\n",
       "      <td>Status quo will not be disturbed at Ayodhya; s...</td>\n",
       "    </tr>\n",
       "    <tr>\n",
       "      <th>2</th>\n",
       "      <td>2001-01-02 00:00:00.000000000</td>\n",
       "      <td>Fissures in Hurriyat over Pak visit</td>\n",
       "    </tr>\n",
       "    <tr>\n",
       "      <th>3</th>\n",
       "      <td>2001-01-02 00:00:00.000000000</td>\n",
       "      <td>America's unwanted heading for India?</td>\n",
       "    </tr>\n",
       "    <tr>\n",
       "      <th>4</th>\n",
       "      <td>2001-01-02 00:00:00.000000000</td>\n",
       "      <td>For bigwigs; it is destination Goa</td>\n",
       "    </tr>\n",
       "    <tr>\n",
       "      <th>5</th>\n",
       "      <td>2001-01-02 00:00:00.000000000</td>\n",
       "      <td>Extra buses to clear tourist traffic</td>\n",
       "    </tr>\n",
       "    <tr>\n",
       "      <th>...</th>\n",
       "      <td>...</td>\n",
       "      <td>...</td>\n",
       "    </tr>\n",
       "    <tr>\n",
       "      <th>3650966</th>\n",
       "      <td>1970-01-01 00:00:00.020220331</td>\n",
       "      <td>J&amp;K sacks 2 cops; 3 other employees over terro...</td>\n",
       "    </tr>\n",
       "    <tr>\n",
       "      <th>3650967</th>\n",
       "      <td>1970-01-01 00:00:00.020220331</td>\n",
       "      <td>Ranbir Kapoor says 'Rishi Kapoor enjoyed his a...</td>\n",
       "    </tr>\n",
       "    <tr>\n",
       "      <th>3650968</th>\n",
       "      <td>1970-01-01 00:00:00.020220331</td>\n",
       "      <td>As Covid-19 cases drop to nil in southern dist...</td>\n",
       "    </tr>\n",
       "    <tr>\n",
       "      <th>3650969</th>\n",
       "      <td>1970-01-01 00:00:00.020220331</td>\n",
       "      <td>Tamil Nadu sees marginal rise of Covid cases w...</td>\n",
       "    </tr>\n",
       "    <tr>\n",
       "      <th>3650970</th>\n",
       "      <td>1970-01-01 00:00:00.020220331</td>\n",
       "      <td>Tamil Nadu sees marginal rise of Covid cases w...</td>\n",
       "    </tr>\n",
       "  </tbody>\n",
       "</table>\n",
       "<p>3650970 rows × 2 columns</p>\n",
       "</div>"
      ],
      "text/plain": [
       "                                 Date  \\\n",
       "1       2001-01-02 00:00:00.000000000   \n",
       "2       2001-01-02 00:00:00.000000000   \n",
       "3       2001-01-02 00:00:00.000000000   \n",
       "4       2001-01-02 00:00:00.000000000   \n",
       "5       2001-01-02 00:00:00.000000000   \n",
       "...                               ...   \n",
       "3650966 1970-01-01 00:00:00.020220331   \n",
       "3650967 1970-01-01 00:00:00.020220331   \n",
       "3650968 1970-01-01 00:00:00.020220331   \n",
       "3650969 1970-01-01 00:00:00.020220331   \n",
       "3650970 1970-01-01 00:00:00.020220331   \n",
       "\n",
       "                                                      News  \n",
       "1        Status quo will not be disturbed at Ayodhya; s...  \n",
       "2                      Fissures in Hurriyat over Pak visit  \n",
       "3                    America's unwanted heading for India?  \n",
       "4                       For bigwigs; it is destination Goa  \n",
       "5                     Extra buses to clear tourist traffic  \n",
       "...                                                    ...  \n",
       "3650966  J&K sacks 2 cops; 3 other employees over terro...  \n",
       "3650967  Ranbir Kapoor says 'Rishi Kapoor enjoyed his a...  \n",
       "3650968  As Covid-19 cases drop to nil in southern dist...  \n",
       "3650969  Tamil Nadu sees marginal rise of Covid cases w...  \n",
       "3650970  Tamil Nadu sees marginal rise of Covid cases w...  \n",
       "\n",
       "[3650970 rows x 2 columns]"
      ]
     },
     "execution_count": 56,
     "metadata": {},
     "output_type": "execute_result"
    }
   ],
   "source": [
    "# Restructuring the date format\n",
    "news['Date'] = pd.to_datetime(news['Date'],format= '%Y %m %d')\n",
    "news"
   ]
  },
  {
   "cell_type": "code",
   "execution_count": 57,
   "id": "3e649f9d",
   "metadata": {},
   "outputs": [
    {
     "data": {
      "text/html": [
       "<div>\n",
       "<style scoped>\n",
       "    .dataframe tbody tr th:only-of-type {\n",
       "        vertical-align: middle;\n",
       "    }\n",
       "\n",
       "    .dataframe tbody tr th {\n",
       "        vertical-align: top;\n",
       "    }\n",
       "\n",
       "    .dataframe thead th {\n",
       "        text-align: right;\n",
       "    }\n",
       "</style>\n",
       "<table border=\"1\" class=\"dataframe\">\n",
       "  <thead>\n",
       "    <tr style=\"text-align: right;\">\n",
       "      <th></th>\n",
       "      <th>Date</th>\n",
       "      <th>News</th>\n",
       "    </tr>\n",
       "  </thead>\n",
       "  <tbody>\n",
       "    <tr>\n",
       "      <th>0</th>\n",
       "      <td>2001-01-02 00:00:00.000000000</td>\n",
       "      <td>Status quo will not be disturbed at Ayodhya; s...</td>\n",
       "    </tr>\n",
       "    <tr>\n",
       "      <th>1</th>\n",
       "      <td>2001-01-03 00:00:00.000000000</td>\n",
       "      <td>Powerless north India gropes in the dark Think...</td>\n",
       "    </tr>\n",
       "    <tr>\n",
       "      <th>2</th>\n",
       "      <td>2001-01-04 00:00:00.000000000</td>\n",
       "      <td>The string that pulled Stephen Hawking to Indi...</td>\n",
       "    </tr>\n",
       "    <tr>\n",
       "      <th>3</th>\n",
       "      <td>2001-01-05 00:00:00.000000000</td>\n",
       "      <td>Light combat craft takes India into club class...</td>\n",
       "    </tr>\n",
       "    <tr>\n",
       "      <th>4</th>\n",
       "      <td>2001-01-06 00:00:00.000000000</td>\n",
       "      <td>Light combat craft takes India into club class...</td>\n",
       "    </tr>\n",
       "    <tr>\n",
       "      <th>...</th>\n",
       "      <td>...</td>\n",
       "      <td>...</td>\n",
       "    </tr>\n",
       "    <tr>\n",
       "      <th>7713</th>\n",
       "      <td>1970-01-01 00:00:00.020220327</td>\n",
       "      <td>Playing a dead man in Body God meant sitting i...</td>\n",
       "    </tr>\n",
       "    <tr>\n",
       "      <th>7714</th>\n",
       "      <td>1970-01-01 00:00:00.020220328</td>\n",
       "      <td>As fashion becomes democratic; demand for styl...</td>\n",
       "    </tr>\n",
       "    <tr>\n",
       "      <th>7715</th>\n",
       "      <td>1970-01-01 00:00:00.020220329</td>\n",
       "      <td>Bobby Deol: Like my dad; I hope to be working ...</td>\n",
       "    </tr>\n",
       "    <tr>\n",
       "      <th>7716</th>\n",
       "      <td>1970-01-01 00:00:00.020220330</td>\n",
       "      <td>I will not give in to trends: Dossmode The tim...</td>\n",
       "    </tr>\n",
       "    <tr>\n",
       "      <th>7717</th>\n",
       "      <td>1970-01-01 00:00:00.020220331</td>\n",
       "      <td>Shashank goes back to coastal Karnataka and Mo...</td>\n",
       "    </tr>\n",
       "  </tbody>\n",
       "</table>\n",
       "<p>7718 rows × 2 columns</p>\n",
       "</div>"
      ],
      "text/plain": [
       "                              Date  \\\n",
       "0    2001-01-02 00:00:00.000000000   \n",
       "1    2001-01-03 00:00:00.000000000   \n",
       "2    2001-01-04 00:00:00.000000000   \n",
       "3    2001-01-05 00:00:00.000000000   \n",
       "4    2001-01-06 00:00:00.000000000   \n",
       "...                            ...   \n",
       "7713 1970-01-01 00:00:00.020220327   \n",
       "7714 1970-01-01 00:00:00.020220328   \n",
       "7715 1970-01-01 00:00:00.020220329   \n",
       "7716 1970-01-01 00:00:00.020220330   \n",
       "7717 1970-01-01 00:00:00.020220331   \n",
       "\n",
       "                                                   News  \n",
       "0     Status quo will not be disturbed at Ayodhya; s...  \n",
       "1     Powerless north India gropes in the dark Think...  \n",
       "2     The string that pulled Stephen Hawking to Indi...  \n",
       "3     Light combat craft takes India into club class...  \n",
       "4     Light combat craft takes India into club class...  \n",
       "...                                                 ...  \n",
       "7713  Playing a dead man in Body God meant sitting i...  \n",
       "7714  As fashion becomes democratic; demand for styl...  \n",
       "7715  Bobby Deol: Like my dad; I hope to be working ...  \n",
       "7716  I will not give in to trends: Dossmode The tim...  \n",
       "7717  Shashank goes back to coastal Karnataka and Mo...  \n",
       "\n",
       "[7718 rows x 2 columns]"
      ]
     },
     "execution_count": 57,
     "metadata": {},
     "output_type": "execute_result"
    }
   ],
   "source": [
    "#Grouping the headlines for each day\n",
    "news['News'] = news.groupby(['Date']).transform(lambda x : ' '.join(x)) \n",
    "news = news.drop_duplicates() \n",
    "news.reset_index(inplace = True, drop = True)\n",
    "news"
   ]
  },
  {
   "cell_type": "code",
   "execution_count": 58,
   "id": "17ef1911",
   "metadata": {},
   "outputs": [
    {
     "data": {
      "text/plain": [
       "0       Status quo will not be disturbed at Ayodhya; s...\n",
       "1       Powerless north India gropes in the dark Think...\n",
       "2       The string that pulled Stephen Hawking to Indi...\n",
       "3       Light combat craft takes India into club class...\n",
       "4       Light combat craft takes India into club class...\n",
       "                              ...                        \n",
       "7713    Playing a dead man in Body God meant sitting i...\n",
       "7714    As fashion becomes democratic; demand for styl...\n",
       "7715    Bobby Deol: Like my dad; I hope to be working ...\n",
       "7716    I will not give in to trends: Dossmode The tim...\n",
       "7717    Shashank goes back to coastal Karnataka and Mo...\n",
       "Name: News, Length: 7718, dtype: object"
      ]
     },
     "execution_count": 58,
     "metadata": {},
     "output_type": "execute_result"
    }
   ],
   "source": [
    "news['News']"
   ]
  },
  {
   "cell_type": "markdown",
   "id": "f6f123a4",
   "metadata": {},
   "source": [
    "### Step 9: Adding subjectivity and polarity Scores"
   ]
  },
  {
   "cell_type": "code",
   "execution_count": 59,
   "id": "7c66de76",
   "metadata": {},
   "outputs": [],
   "source": [
    "#Functions to get the subjectivity and polarity\n",
    "def getSubjectivity(text):\n",
    "  return TextBlob(text).sentiment.subjectivity\n",
    "\n",
    "def getPolarity(text):\n",
    "  return  TextBlob(text).sentiment.polarity"
   ]
  },
  {
   "cell_type": "code",
   "execution_count": 60,
   "id": "81c9d8c8",
   "metadata": {},
   "outputs": [
    {
     "name": "stderr",
     "output_type": "stream",
     "text": [
      "C:\\Users\\Rimjhim\\AppData\\Local\\Temp/ipykernel_5236/1465704759.py:2: SettingWithCopyWarning: \n",
      "A value is trying to be set on a copy of a slice from a DataFrame.\n",
      "Try using .loc[row_indexer,col_indexer] = value instead\n",
      "\n",
      "See the caveats in the documentation: https://pandas.pydata.org/pandas-docs/stable/user_guide/indexing.html#returning-a-view-versus-a-copy\n",
      "  news['Subjectivity'] = news['News'].apply(getSubjectivity)\n",
      "C:\\Users\\Rimjhim\\AppData\\Local\\Temp/ipykernel_5236/1465704759.py:3: SettingWithCopyWarning: \n",
      "A value is trying to be set on a copy of a slice from a DataFrame.\n",
      "Try using .loc[row_indexer,col_indexer] = value instead\n",
      "\n",
      "See the caveats in the documentation: https://pandas.pydata.org/pandas-docs/stable/user_guide/indexing.html#returning-a-view-versus-a-copy\n",
      "  news['Polarity'] = news['News'].apply(getPolarity)\n"
     ]
    },
    {
     "data": {
      "text/html": [
       "<div>\n",
       "<style scoped>\n",
       "    .dataframe tbody tr th:only-of-type {\n",
       "        vertical-align: middle;\n",
       "    }\n",
       "\n",
       "    .dataframe tbody tr th {\n",
       "        vertical-align: top;\n",
       "    }\n",
       "\n",
       "    .dataframe thead th {\n",
       "        text-align: right;\n",
       "    }\n",
       "</style>\n",
       "<table border=\"1\" class=\"dataframe\">\n",
       "  <thead>\n",
       "    <tr style=\"text-align: right;\">\n",
       "      <th></th>\n",
       "      <th>Date</th>\n",
       "      <th>News</th>\n",
       "      <th>Subjectivity</th>\n",
       "      <th>Polarity</th>\n",
       "    </tr>\n",
       "  </thead>\n",
       "  <tbody>\n",
       "    <tr>\n",
       "      <th>0</th>\n",
       "      <td>2001-01-02 00:00:00.000000000</td>\n",
       "      <td>Status quo will not be disturbed at Ayodhya; s...</td>\n",
       "      <td>0.282333</td>\n",
       "      <td>0.151333</td>\n",
       "    </tr>\n",
       "    <tr>\n",
       "      <th>1</th>\n",
       "      <td>2001-01-03 00:00:00.000000000</td>\n",
       "      <td>Powerless north India gropes in the dark Think...</td>\n",
       "      <td>0.407692</td>\n",
       "      <td>0.088462</td>\n",
       "    </tr>\n",
       "    <tr>\n",
       "      <th>2</th>\n",
       "      <td>2001-01-04 00:00:00.000000000</td>\n",
       "      <td>The string that pulled Stephen Hawking to Indi...</td>\n",
       "      <td>0.446847</td>\n",
       "      <td>0.087961</td>\n",
       "    </tr>\n",
       "    <tr>\n",
       "      <th>3</th>\n",
       "      <td>2001-01-05 00:00:00.000000000</td>\n",
       "      <td>Light combat craft takes India into club class...</td>\n",
       "      <td>0.476612</td>\n",
       "      <td>0.262024</td>\n",
       "    </tr>\n",
       "    <tr>\n",
       "      <th>4</th>\n",
       "      <td>2001-01-06 00:00:00.000000000</td>\n",
       "      <td>Light combat craft takes India into club class...</td>\n",
       "      <td>0.439394</td>\n",
       "      <td>0.248485</td>\n",
       "    </tr>\n",
       "    <tr>\n",
       "      <th>...</th>\n",
       "      <td>...</td>\n",
       "      <td>...</td>\n",
       "      <td>...</td>\n",
       "      <td>...</td>\n",
       "    </tr>\n",
       "    <tr>\n",
       "      <th>7713</th>\n",
       "      <td>1970-01-01 00:00:00.020220327</td>\n",
       "      <td>Playing a dead man in Body God meant sitting i...</td>\n",
       "      <td>0.369592</td>\n",
       "      <td>0.025109</td>\n",
       "    </tr>\n",
       "    <tr>\n",
       "      <th>7714</th>\n",
       "      <td>1970-01-01 00:00:00.020220328</td>\n",
       "      <td>As fashion becomes democratic; demand for styl...</td>\n",
       "      <td>0.389939</td>\n",
       "      <td>0.055878</td>\n",
       "    </tr>\n",
       "    <tr>\n",
       "      <th>7715</th>\n",
       "      <td>1970-01-01 00:00:00.020220329</td>\n",
       "      <td>Bobby Deol: Like my dad; I hope to be working ...</td>\n",
       "      <td>0.404240</td>\n",
       "      <td>0.095198</td>\n",
       "    </tr>\n",
       "    <tr>\n",
       "      <th>7716</th>\n",
       "      <td>1970-01-01 00:00:00.020220330</td>\n",
       "      <td>I will not give in to trends: Dossmode The tim...</td>\n",
       "      <td>0.350965</td>\n",
       "      <td>0.037729</td>\n",
       "    </tr>\n",
       "    <tr>\n",
       "      <th>7717</th>\n",
       "      <td>1970-01-01 00:00:00.020220331</td>\n",
       "      <td>Shashank goes back to coastal Karnataka and Mo...</td>\n",
       "      <td>0.338593</td>\n",
       "      <td>0.023654</td>\n",
       "    </tr>\n",
       "  </tbody>\n",
       "</table>\n",
       "<p>7718 rows × 4 columns</p>\n",
       "</div>"
      ],
      "text/plain": [
       "                              Date  \\\n",
       "0    2001-01-02 00:00:00.000000000   \n",
       "1    2001-01-03 00:00:00.000000000   \n",
       "2    2001-01-04 00:00:00.000000000   \n",
       "3    2001-01-05 00:00:00.000000000   \n",
       "4    2001-01-06 00:00:00.000000000   \n",
       "...                            ...   \n",
       "7713 1970-01-01 00:00:00.020220327   \n",
       "7714 1970-01-01 00:00:00.020220328   \n",
       "7715 1970-01-01 00:00:00.020220329   \n",
       "7716 1970-01-01 00:00:00.020220330   \n",
       "7717 1970-01-01 00:00:00.020220331   \n",
       "\n",
       "                                                   News  Subjectivity  \\\n",
       "0     Status quo will not be disturbed at Ayodhya; s...      0.282333   \n",
       "1     Powerless north India gropes in the dark Think...      0.407692   \n",
       "2     The string that pulled Stephen Hawking to Indi...      0.446847   \n",
       "3     Light combat craft takes India into club class...      0.476612   \n",
       "4     Light combat craft takes India into club class...      0.439394   \n",
       "...                                                 ...           ...   \n",
       "7713  Playing a dead man in Body God meant sitting i...      0.369592   \n",
       "7714  As fashion becomes democratic; demand for styl...      0.389939   \n",
       "7715  Bobby Deol: Like my dad; I hope to be working ...      0.404240   \n",
       "7716  I will not give in to trends: Dossmode The tim...      0.350965   \n",
       "7717  Shashank goes back to coastal Karnataka and Mo...      0.338593   \n",
       "\n",
       "      Polarity  \n",
       "0     0.151333  \n",
       "1     0.088462  \n",
       "2     0.087961  \n",
       "3     0.262024  \n",
       "4     0.248485  \n",
       "...        ...  \n",
       "7713  0.025109  \n",
       "7714  0.055878  \n",
       "7715  0.095198  \n",
       "7716  0.037729  \n",
       "7717  0.023654  \n",
       "\n",
       "[7718 rows x 4 columns]"
      ]
     },
     "execution_count": 60,
     "metadata": {},
     "output_type": "execute_result"
    }
   ],
   "source": [
    "#Adding subjectivity and polarity columns\n",
    "news['Subjectivity'] = news['News'].apply(getSubjectivity)\n",
    "news['Polarity'] = news['News'].apply(getPolarity)\n",
    "news"
   ]
  },
  {
   "cell_type": "markdown",
   "id": "9aa1d55b",
   "metadata": {},
   "source": [
    "### Step 10: Visualizations"
   ]
  },
  {
   "cell_type": "code",
   "execution_count": 61,
   "id": "185070cc",
   "metadata": {},
   "outputs": [
    {
     "data": {
      "text/plain": [
       "<AxesSubplot:>"
      ]
     },
     "execution_count": 61,
     "metadata": {},
     "output_type": "execute_result"
    },
    {
     "data": {
      "image/png": "[encoded data removed]",
      "text/plain": [
       "<Figure size 360x360 with 1 Axes>"
      ]
     },
     "metadata": {
      "needs_background": "light"
     },
     "output_type": "display_data"
    }
   ],
   "source": [
    "plt.figure(figsize = (5,5))\n",
    "news['Polarity'].hist(color = 'yellow')"
   ]
  },
  {
   "cell_type": "code",
   "execution_count": 62,
   "id": "2f873fce",
   "metadata": {},
   "outputs": [
    {
     "data": {
      "text/plain": [
       "<AxesSubplot:>"
      ]
     },
     "execution_count": 62,
     "metadata": {},
     "output_type": "execute_result"
    },
    {
     "data": {
      "image/png": "[encoded data removed]",
      "text/plain": [
       "<Figure size 360x360 with 1 Axes>"
      ]
     },
     "metadata": {
      "needs_background": "light"
     },
     "output_type": "display_data"
    }
   ],
   "source": [
    "plt.figure(figsize = (5,5))\n",
    "news['Subjectivity'].hist(color = 'orange')"
   ]
  },
  {
   "cell_type": "markdown",
   "id": "4ca39fb6",
   "metadata": {},
   "source": [
    "### Step 11: Sentiment Analysis"
   ]
  },
  {
   "cell_type": "code",
   "execution_count": 195,
   "id": "0c62894e",
   "metadata": {},
   "outputs": [],
   "source": [
    "import warnings\n",
    "warnings.filterwarnings(\"ignore\")"
   ]
  },
  {
   "cell_type": "code",
   "execution_count": null,
   "id": "38645c6c",
   "metadata": {},
   "outputs": [],
   "source": [
    "#Adding sentiment score to news\n",
    "sia = SentimentIntensityAnalyzer()\n",
    "\n",
    "news['Compound'] = [sia.polarity_scores(v)['compound'] for v in news['News']]\n",
    "news['Negative'] = [sia.polarity_scores(v)['neg'] for v in news['News']]\n",
    "news['Neutral'] = [sia.polarity_scores(v)['neu'] for v in news['News']]\n",
    "news['Positive'] = [sia.polarity_scores(v)['pos'] for v in news['News']]\n",
    "news"
   ]
  },
  {
   "cell_type": "code",
   "execution_count": 75,
   "id": "c4557d19",
   "metadata": {},
   "outputs": [
    {
     "data": {
      "text/html": [
       "<div>\n",
       "<style scoped>\n",
       "    .dataframe tbody tr th:only-of-type {\n",
       "        vertical-align: middle;\n",
       "    }\n",
       "\n",
       "    .dataframe tbody tr th {\n",
       "        vertical-align: top;\n",
       "    }\n",
       "\n",
       "    .dataframe thead th {\n",
       "        text-align: right;\n",
       "    }\n",
       "</style>\n",
       "<table border=\"1\" class=\"dataframe\">\n",
       "  <thead>\n",
       "    <tr style=\"text-align: right;\">\n",
       "      <th></th>\n",
       "      <th>Date</th>\n",
       "      <th>News</th>\n",
       "      <th>Subjectivity</th>\n",
       "      <th>Polarity</th>\n",
       "      <th>Compound</th>\n",
       "      <th>Negative</th>\n",
       "      <th>Neutral</th>\n",
       "      <th>Positive</th>\n",
       "    </tr>\n",
       "  </thead>\n",
       "  <tbody>\n",
       "    <tr>\n",
       "      <th>0</th>\n",
       "      <td>2001-01-02 00:00:00.000000000</td>\n",
       "      <td>Status quo will not be disturbed at Ayodhya; s...</td>\n",
       "      <td>0.282333</td>\n",
       "      <td>0.151333</td>\n",
       "      <td>-0.9811</td>\n",
       "      <td>0.122</td>\n",
       "      <td>0.807</td>\n",
       "      <td>0.071</td>\n",
       "    </tr>\n",
       "    <tr>\n",
       "      <th>1</th>\n",
       "      <td>2001-01-03 00:00:00.000000000</td>\n",
       "      <td>Powerless north India gropes in the dark Think...</td>\n",
       "      <td>0.407692</td>\n",
       "      <td>0.088462</td>\n",
       "      <td>-0.2640</td>\n",
       "      <td>0.122</td>\n",
       "      <td>0.766</td>\n",
       "      <td>0.111</td>\n",
       "    </tr>\n",
       "    <tr>\n",
       "      <th>2</th>\n",
       "      <td>2001-01-04 00:00:00.000000000</td>\n",
       "      <td>The string that pulled Stephen Hawking to Indi...</td>\n",
       "      <td>0.446847</td>\n",
       "      <td>0.087961</td>\n",
       "      <td>0.8738</td>\n",
       "      <td>0.100</td>\n",
       "      <td>0.797</td>\n",
       "      <td>0.103</td>\n",
       "    </tr>\n",
       "    <tr>\n",
       "      <th>3</th>\n",
       "      <td>2001-01-05 00:00:00.000000000</td>\n",
       "      <td>Light combat craft takes India into club class...</td>\n",
       "      <td>0.476612</td>\n",
       "      <td>0.262024</td>\n",
       "      <td>0.9769</td>\n",
       "      <td>0.124</td>\n",
       "      <td>0.719</td>\n",
       "      <td>0.157</td>\n",
       "    </tr>\n",
       "    <tr>\n",
       "      <th>4</th>\n",
       "      <td>2001-01-06 00:00:00.000000000</td>\n",
       "      <td>Light combat craft takes India into club class...</td>\n",
       "      <td>0.439394</td>\n",
       "      <td>0.248485</td>\n",
       "      <td>-0.4215</td>\n",
       "      <td>0.152</td>\n",
       "      <td>0.704</td>\n",
       "      <td>0.143</td>\n",
       "    </tr>\n",
       "    <tr>\n",
       "      <th>...</th>\n",
       "      <td>...</td>\n",
       "      <td>...</td>\n",
       "      <td>...</td>\n",
       "      <td>...</td>\n",
       "      <td>...</td>\n",
       "      <td>...</td>\n",
       "      <td>...</td>\n",
       "      <td>...</td>\n",
       "    </tr>\n",
       "    <tr>\n",
       "      <th>7713</th>\n",
       "      <td>1970-01-01 00:00:00.020220327</td>\n",
       "      <td>Playing a dead man in Body God meant sitting i...</td>\n",
       "      <td>0.369592</td>\n",
       "      <td>0.025109</td>\n",
       "      <td>-0.9999</td>\n",
       "      <td>0.154</td>\n",
       "      <td>0.764</td>\n",
       "      <td>0.082</td>\n",
       "    </tr>\n",
       "    <tr>\n",
       "      <th>7714</th>\n",
       "      <td>1970-01-01 00:00:00.020220328</td>\n",
       "      <td>As fashion becomes democratic; demand for styl...</td>\n",
       "      <td>0.389939</td>\n",
       "      <td>0.055878</td>\n",
       "      <td>-0.9999</td>\n",
       "      <td>0.158</td>\n",
       "      <td>0.742</td>\n",
       "      <td>0.100</td>\n",
       "    </tr>\n",
       "    <tr>\n",
       "      <th>7715</th>\n",
       "      <td>1970-01-01 00:00:00.020220329</td>\n",
       "      <td>Bobby Deol: Like my dad; I hope to be working ...</td>\n",
       "      <td>0.404240</td>\n",
       "      <td>0.095198</td>\n",
       "      <td>-0.9999</td>\n",
       "      <td>0.152</td>\n",
       "      <td>0.766</td>\n",
       "      <td>0.082</td>\n",
       "    </tr>\n",
       "    <tr>\n",
       "      <th>7716</th>\n",
       "      <td>1970-01-01 00:00:00.020220330</td>\n",
       "      <td>I will not give in to trends: Dossmode The tim...</td>\n",
       "      <td>0.350965</td>\n",
       "      <td>0.037729</td>\n",
       "      <td>-0.9999</td>\n",
       "      <td>0.151</td>\n",
       "      <td>0.775</td>\n",
       "      <td>0.074</td>\n",
       "    </tr>\n",
       "    <tr>\n",
       "      <th>7717</th>\n",
       "      <td>1970-01-01 00:00:00.020220331</td>\n",
       "      <td>Shashank goes back to coastal Karnataka and Mo...</td>\n",
       "      <td>0.338593</td>\n",
       "      <td>0.023654</td>\n",
       "      <td>-0.9999</td>\n",
       "      <td>0.150</td>\n",
       "      <td>0.781</td>\n",
       "      <td>0.069</td>\n",
       "    </tr>\n",
       "  </tbody>\n",
       "</table>\n",
       "<p>7718 rows × 8 columns</p>\n",
       "</div>"
      ],
      "text/plain": [
       "                              Date  \\\n",
       "0    2001-01-02 00:00:00.000000000   \n",
       "1    2001-01-03 00:00:00.000000000   \n",
       "2    2001-01-04 00:00:00.000000000   \n",
       "3    2001-01-05 00:00:00.000000000   \n",
       "4    2001-01-06 00:00:00.000000000   \n",
       "...                            ...   \n",
       "7713 1970-01-01 00:00:00.020220327   \n",
       "7714 1970-01-01 00:00:00.020220328   \n",
       "7715 1970-01-01 00:00:00.020220329   \n",
       "7716 1970-01-01 00:00:00.020220330   \n",
       "7717 1970-01-01 00:00:00.020220331   \n",
       "\n",
       "                                                   News  Subjectivity  \\\n",
       "0     Status quo will not be disturbed at Ayodhya; s...      0.282333   \n",
       "1     Powerless north India gropes in the dark Think...      0.407692   \n",
       "2     The string that pulled Stephen Hawking to Indi...      0.446847   \n",
       "3     Light combat craft takes India into club class...      0.476612   \n",
       "4     Light combat craft takes India into club class...      0.439394   \n",
       "...                                                 ...           ...   \n",
       "7713  Playing a dead man in Body God meant sitting i...      0.369592   \n",
       "7714  As fashion becomes democratic; demand for styl...      0.389939   \n",
       "7715  Bobby Deol: Like my dad; I hope to be working ...      0.404240   \n",
       "7716  I will not give in to trends: Dossmode The tim...      0.350965   \n",
       "7717  Shashank goes back to coastal Karnataka and Mo...      0.338593   \n",
       "\n",
       "      Polarity  Compound  Negative  Neutral  Positive  \n",
       "0     0.151333   -0.9811     0.122    0.807     0.071  \n",
       "1     0.088462   -0.2640     0.122    0.766     0.111  \n",
       "2     0.087961    0.8738     0.100    0.797     0.103  \n",
       "3     0.262024    0.9769     0.124    0.719     0.157  \n",
       "4     0.248485   -0.4215     0.152    0.704     0.143  \n",
       "...        ...       ...       ...      ...       ...  \n",
       "7713  0.025109   -0.9999     0.154    0.764     0.082  \n",
       "7714  0.055878   -0.9999     0.158    0.742     0.100  \n",
       "7715  0.095198   -0.9999     0.152    0.766     0.082  \n",
       "7716  0.037729   -0.9999     0.151    0.775     0.074  \n",
       "7717  0.023654   -0.9999     0.150    0.781     0.069  \n",
       "\n",
       "[7718 rows x 8 columns]"
      ]
     },
     "execution_count": 75,
     "metadata": {},
     "output_type": "execute_result"
    }
   ],
   "source": [
    "news"
   ]
  },
  {
   "cell_type": "markdown",
   "id": "e668b783",
   "metadata": {},
   "source": [
    "### Setp 12: Combining the Data"
   ]
  },
  {
   "cell_type": "code",
   "execution_count": 76,
   "id": "2786f72e",
   "metadata": {},
   "outputs": [
    {
     "data": {
      "text/html": [
       "<div>\n",
       "<style scoped>\n",
       "    .dataframe tbody tr th:only-of-type {\n",
       "        vertical-align: middle;\n",
       "    }\n",
       "\n",
       "    .dataframe tbody tr th {\n",
       "        vertical-align: top;\n",
       "    }\n",
       "\n",
       "    .dataframe thead th {\n",
       "        text-align: right;\n",
       "    }\n",
       "</style>\n",
       "<table border=\"1\" class=\"dataframe\">\n",
       "  <thead>\n",
       "    <tr style=\"text-align: right;\">\n",
       "      <th></th>\n",
       "      <th>Date</th>\n",
       "      <th>News</th>\n",
       "      <th>Subjectivity</th>\n",
       "      <th>Polarity</th>\n",
       "      <th>Compound</th>\n",
       "      <th>Negative</th>\n",
       "      <th>Neutral</th>\n",
       "      <th>Positive</th>\n",
       "    </tr>\n",
       "  </thead>\n",
       "  <tbody>\n",
       "    <tr>\n",
       "      <th>0</th>\n",
       "      <td>2001-01-02 00:00:00.000000000</td>\n",
       "      <td>Status quo will not be disturbed at Ayodhya; s...</td>\n",
       "      <td>0.282333</td>\n",
       "      <td>0.151333</td>\n",
       "      <td>-0.9811</td>\n",
       "      <td>0.122</td>\n",
       "      <td>0.807</td>\n",
       "      <td>0.071</td>\n",
       "    </tr>\n",
       "    <tr>\n",
       "      <th>1</th>\n",
       "      <td>2001-01-03 00:00:00.000000000</td>\n",
       "      <td>Powerless north India gropes in the dark Think...</td>\n",
       "      <td>0.407692</td>\n",
       "      <td>0.088462</td>\n",
       "      <td>-0.2640</td>\n",
       "      <td>0.122</td>\n",
       "      <td>0.766</td>\n",
       "      <td>0.111</td>\n",
       "    </tr>\n",
       "    <tr>\n",
       "      <th>2</th>\n",
       "      <td>2001-01-04 00:00:00.000000000</td>\n",
       "      <td>The string that pulled Stephen Hawking to Indi...</td>\n",
       "      <td>0.446847</td>\n",
       "      <td>0.087961</td>\n",
       "      <td>0.8738</td>\n",
       "      <td>0.100</td>\n",
       "      <td>0.797</td>\n",
       "      <td>0.103</td>\n",
       "    </tr>\n",
       "    <tr>\n",
       "      <th>3</th>\n",
       "      <td>2001-01-05 00:00:00.000000000</td>\n",
       "      <td>Light combat craft takes India into club class...</td>\n",
       "      <td>0.476612</td>\n",
       "      <td>0.262024</td>\n",
       "      <td>0.9769</td>\n",
       "      <td>0.124</td>\n",
       "      <td>0.719</td>\n",
       "      <td>0.157</td>\n",
       "    </tr>\n",
       "    <tr>\n",
       "      <th>4</th>\n",
       "      <td>2001-01-06 00:00:00.000000000</td>\n",
       "      <td>Light combat craft takes India into club class...</td>\n",
       "      <td>0.439394</td>\n",
       "      <td>0.248485</td>\n",
       "      <td>-0.4215</td>\n",
       "      <td>0.152</td>\n",
       "      <td>0.704</td>\n",
       "      <td>0.143</td>\n",
       "    </tr>\n",
       "    <tr>\n",
       "      <th>...</th>\n",
       "      <td>...</td>\n",
       "      <td>...</td>\n",
       "      <td>...</td>\n",
       "      <td>...</td>\n",
       "      <td>...</td>\n",
       "      <td>...</td>\n",
       "      <td>...</td>\n",
       "      <td>...</td>\n",
       "    </tr>\n",
       "    <tr>\n",
       "      <th>7713</th>\n",
       "      <td>1970-01-01 00:00:00.020220327</td>\n",
       "      <td>Playing a dead man in Body God meant sitting i...</td>\n",
       "      <td>0.369592</td>\n",
       "      <td>0.025109</td>\n",
       "      <td>-0.9999</td>\n",
       "      <td>0.154</td>\n",
       "      <td>0.764</td>\n",
       "      <td>0.082</td>\n",
       "    </tr>\n",
       "    <tr>\n",
       "      <th>7714</th>\n",
       "      <td>1970-01-01 00:00:00.020220328</td>\n",
       "      <td>As fashion becomes democratic; demand for styl...</td>\n",
       "      <td>0.389939</td>\n",
       "      <td>0.055878</td>\n",
       "      <td>-0.9999</td>\n",
       "      <td>0.158</td>\n",
       "      <td>0.742</td>\n",
       "      <td>0.100</td>\n",
       "    </tr>\n",
       "    <tr>\n",
       "      <th>7715</th>\n",
       "      <td>1970-01-01 00:00:00.020220329</td>\n",
       "      <td>Bobby Deol: Like my dad; I hope to be working ...</td>\n",
       "      <td>0.404240</td>\n",
       "      <td>0.095198</td>\n",
       "      <td>-0.9999</td>\n",
       "      <td>0.152</td>\n",
       "      <td>0.766</td>\n",
       "      <td>0.082</td>\n",
       "    </tr>\n",
       "    <tr>\n",
       "      <th>7716</th>\n",
       "      <td>1970-01-01 00:00:00.020220330</td>\n",
       "      <td>I will not give in to trends: Dossmode The tim...</td>\n",
       "      <td>0.350965</td>\n",
       "      <td>0.037729</td>\n",
       "      <td>-0.9999</td>\n",
       "      <td>0.151</td>\n",
       "      <td>0.775</td>\n",
       "      <td>0.074</td>\n",
       "    </tr>\n",
       "    <tr>\n",
       "      <th>7717</th>\n",
       "      <td>1970-01-01 00:00:00.020220331</td>\n",
       "      <td>Shashank goes back to coastal Karnataka and Mo...</td>\n",
       "      <td>0.338593</td>\n",
       "      <td>0.023654</td>\n",
       "      <td>-0.9999</td>\n",
       "      <td>0.150</td>\n",
       "      <td>0.781</td>\n",
       "      <td>0.069</td>\n",
       "    </tr>\n",
       "  </tbody>\n",
       "</table>\n",
       "<p>7718 rows × 8 columns</p>\n",
       "</div>"
      ],
      "text/plain": [
       "                              Date  \\\n",
       "0    2001-01-02 00:00:00.000000000   \n",
       "1    2001-01-03 00:00:00.000000000   \n",
       "2    2001-01-04 00:00:00.000000000   \n",
       "3    2001-01-05 00:00:00.000000000   \n",
       "4    2001-01-06 00:00:00.000000000   \n",
       "...                            ...   \n",
       "7713 1970-01-01 00:00:00.020220327   \n",
       "7714 1970-01-01 00:00:00.020220328   \n",
       "7715 1970-01-01 00:00:00.020220329   \n",
       "7716 1970-01-01 00:00:00.020220330   \n",
       "7717 1970-01-01 00:00:00.020220331   \n",
       "\n",
       "                                                   News  Subjectivity  \\\n",
       "0     Status quo will not be disturbed at Ayodhya; s...      0.282333   \n",
       "1     Powerless north India gropes in the dark Think...      0.407692   \n",
       "2     The string that pulled Stephen Hawking to Indi...      0.446847   \n",
       "3     Light combat craft takes India into club class...      0.476612   \n",
       "4     Light combat craft takes India into club class...      0.439394   \n",
       "...                                                 ...           ...   \n",
       "7713  Playing a dead man in Body God meant sitting i...      0.369592   \n",
       "7714  As fashion becomes democratic; demand for styl...      0.389939   \n",
       "7715  Bobby Deol: Like my dad; I hope to be working ...      0.404240   \n",
       "7716  I will not give in to trends: Dossmode The tim...      0.350965   \n",
       "7717  Shashank goes back to coastal Karnataka and Mo...      0.338593   \n",
       "\n",
       "      Polarity  Compound  Negative  Neutral  Positive  \n",
       "0     0.151333   -0.9811     0.122    0.807     0.071  \n",
       "1     0.088462   -0.2640     0.122    0.766     0.111  \n",
       "2     0.087961    0.8738     0.100    0.797     0.103  \n",
       "3     0.262024    0.9769     0.124    0.719     0.157  \n",
       "4     0.248485   -0.4215     0.152    0.704     0.143  \n",
       "...        ...       ...       ...      ...       ...  \n",
       "7713  0.025109   -0.9999     0.154    0.764     0.082  \n",
       "7714  0.055878   -0.9999     0.158    0.742     0.100  \n",
       "7715  0.095198   -0.9999     0.152    0.766     0.082  \n",
       "7716  0.037729   -0.9999     0.151    0.775     0.074  \n",
       "7717  0.023654   -0.9999     0.150    0.781     0.069  \n",
       "\n",
       "[7718 rows x 8 columns]"
      ]
     },
     "execution_count": 76,
     "metadata": {},
     "output_type": "execute_result"
    }
   ],
   "source": [
    "merge = news\n",
    "merge"
   ]
  },
  {
   "cell_type": "code",
   "execution_count": 77,
   "id": "d24a9c83",
   "metadata": {},
   "outputs": [
    {
     "data": {
      "text/html": [
       "<div>\n",
       "<style scoped>\n",
       "    .dataframe tbody tr th:only-of-type {\n",
       "        vertical-align: middle;\n",
       "    }\n",
       "\n",
       "    .dataframe tbody tr th {\n",
       "        vertical-align: top;\n",
       "    }\n",
       "\n",
       "    .dataframe thead th {\n",
       "        text-align: right;\n",
       "    }\n",
       "</style>\n",
       "<table border=\"1\" class=\"dataframe\">\n",
       "  <thead>\n",
       "    <tr style=\"text-align: right;\">\n",
       "      <th></th>\n",
       "      <th>Subjectivity</th>\n",
       "      <th>Polarity</th>\n",
       "      <th>Compound</th>\n",
       "      <th>Negative</th>\n",
       "      <th>Neutral</th>\n",
       "      <th>Positive</th>\n",
       "    </tr>\n",
       "  </thead>\n",
       "  <tbody>\n",
       "    <tr>\n",
       "      <th>0</th>\n",
       "      <td>0.282333</td>\n",
       "      <td>0.151333</td>\n",
       "      <td>-0.9811</td>\n",
       "      <td>0.122</td>\n",
       "      <td>0.807</td>\n",
       "      <td>0.071</td>\n",
       "    </tr>\n",
       "    <tr>\n",
       "      <th>1</th>\n",
       "      <td>0.407692</td>\n",
       "      <td>0.088462</td>\n",
       "      <td>-0.2640</td>\n",
       "      <td>0.122</td>\n",
       "      <td>0.766</td>\n",
       "      <td>0.111</td>\n",
       "    </tr>\n",
       "    <tr>\n",
       "      <th>2</th>\n",
       "      <td>0.446847</td>\n",
       "      <td>0.087961</td>\n",
       "      <td>0.8738</td>\n",
       "      <td>0.100</td>\n",
       "      <td>0.797</td>\n",
       "      <td>0.103</td>\n",
       "    </tr>\n",
       "    <tr>\n",
       "      <th>3</th>\n",
       "      <td>0.476612</td>\n",
       "      <td>0.262024</td>\n",
       "      <td>0.9769</td>\n",
       "      <td>0.124</td>\n",
       "      <td>0.719</td>\n",
       "      <td>0.157</td>\n",
       "    </tr>\n",
       "    <tr>\n",
       "      <th>4</th>\n",
       "      <td>0.439394</td>\n",
       "      <td>0.248485</td>\n",
       "      <td>-0.4215</td>\n",
       "      <td>0.152</td>\n",
       "      <td>0.704</td>\n",
       "      <td>0.143</td>\n",
       "    </tr>\n",
       "    <tr>\n",
       "      <th>...</th>\n",
       "      <td>...</td>\n",
       "      <td>...</td>\n",
       "      <td>...</td>\n",
       "      <td>...</td>\n",
       "      <td>...</td>\n",
       "      <td>...</td>\n",
       "    </tr>\n",
       "    <tr>\n",
       "      <th>7713</th>\n",
       "      <td>0.369592</td>\n",
       "      <td>0.025109</td>\n",
       "      <td>-0.9999</td>\n",
       "      <td>0.154</td>\n",
       "      <td>0.764</td>\n",
       "      <td>0.082</td>\n",
       "    </tr>\n",
       "    <tr>\n",
       "      <th>7714</th>\n",
       "      <td>0.389939</td>\n",
       "      <td>0.055878</td>\n",
       "      <td>-0.9999</td>\n",
       "      <td>0.158</td>\n",
       "      <td>0.742</td>\n",
       "      <td>0.100</td>\n",
       "    </tr>\n",
       "    <tr>\n",
       "      <th>7715</th>\n",
       "      <td>0.404240</td>\n",
       "      <td>0.095198</td>\n",
       "      <td>-0.9999</td>\n",
       "      <td>0.152</td>\n",
       "      <td>0.766</td>\n",
       "      <td>0.082</td>\n",
       "    </tr>\n",
       "    <tr>\n",
       "      <th>7716</th>\n",
       "      <td>0.350965</td>\n",
       "      <td>0.037729</td>\n",
       "      <td>-0.9999</td>\n",
       "      <td>0.151</td>\n",
       "      <td>0.775</td>\n",
       "      <td>0.074</td>\n",
       "    </tr>\n",
       "    <tr>\n",
       "      <th>7717</th>\n",
       "      <td>0.338593</td>\n",
       "      <td>0.023654</td>\n",
       "      <td>-0.9999</td>\n",
       "      <td>0.150</td>\n",
       "      <td>0.781</td>\n",
       "      <td>0.069</td>\n",
       "    </tr>\n",
       "  </tbody>\n",
       "</table>\n",
       "<p>7718 rows × 6 columns</p>\n",
       "</div>"
      ],
      "text/plain": [
       "      Subjectivity  Polarity  Compound  Negative  Neutral  Positive\n",
       "0         0.282333  0.151333   -0.9811     0.122    0.807     0.071\n",
       "1         0.407692  0.088462   -0.2640     0.122    0.766     0.111\n",
       "2         0.446847  0.087961    0.8738     0.100    0.797     0.103\n",
       "3         0.476612  0.262024    0.9769     0.124    0.719     0.157\n",
       "4         0.439394  0.248485   -0.4215     0.152    0.704     0.143\n",
       "...            ...       ...       ...       ...      ...       ...\n",
       "7713      0.369592  0.025109   -0.9999     0.154    0.764     0.082\n",
       "7714      0.389939  0.055878   -0.9999     0.158    0.742     0.100\n",
       "7715      0.404240  0.095198   -0.9999     0.152    0.766     0.082\n",
       "7716      0.350965  0.037729   -0.9999     0.151    0.775     0.074\n",
       "7717      0.338593  0.023654   -0.9999     0.150    0.781     0.069\n",
       "\n",
       "[7718 rows x 6 columns]"
      ]
     },
     "execution_count": 77,
     "metadata": {},
     "output_type": "execute_result"
    }
   ],
   "source": [
    "dff = merge[['Subjectivity', 'Polarity', 'Compound', 'Negative', 'Neutral' ,'Positive']]\n",
    "dff"
   ]
  },
  {
   "cell_type": "code",
   "execution_count": 78,
   "id": "211be478",
   "metadata": {},
   "outputs": [
    {
     "data": {
      "text/html": [
       "<div>\n",
       "<style scoped>\n",
       "    .dataframe tbody tr th:only-of-type {\n",
       "        vertical-align: middle;\n",
       "    }\n",
       "\n",
       "    .dataframe tbody tr th {\n",
       "        vertical-align: top;\n",
       "    }\n",
       "\n",
       "    .dataframe thead th {\n",
       "        text-align: right;\n",
       "    }\n",
       "</style>\n",
       "<table border=\"1\" class=\"dataframe\">\n",
       "  <thead>\n",
       "    <tr style=\"text-align: right;\">\n",
       "      <th></th>\n",
       "      <th>Subjectivity</th>\n",
       "      <th>Polarity</th>\n",
       "      <th>Compound</th>\n",
       "      <th>Negative</th>\n",
       "      <th>Neutral</th>\n",
       "      <th>Positive</th>\n",
       "    </tr>\n",
       "  </thead>\n",
       "  <tbody>\n",
       "    <tr>\n",
       "      <th>0</th>\n",
       "      <td>0.282333</td>\n",
       "      <td>0.427407</td>\n",
       "      <td>0.00945</td>\n",
       "      <td>0.274775</td>\n",
       "      <td>0.807</td>\n",
       "      <td>0.116776</td>\n",
       "    </tr>\n",
       "    <tr>\n",
       "      <th>1</th>\n",
       "      <td>0.407692</td>\n",
       "      <td>0.357550</td>\n",
       "      <td>0.36800</td>\n",
       "      <td>0.274775</td>\n",
       "      <td>0.766</td>\n",
       "      <td>0.182566</td>\n",
       "    </tr>\n",
       "    <tr>\n",
       "      <th>2</th>\n",
       "      <td>0.446847</td>\n",
       "      <td>0.356994</td>\n",
       "      <td>0.93690</td>\n",
       "      <td>0.225225</td>\n",
       "      <td>0.797</td>\n",
       "      <td>0.169408</td>\n",
       "    </tr>\n",
       "    <tr>\n",
       "      <th>3</th>\n",
       "      <td>0.476612</td>\n",
       "      <td>0.550397</td>\n",
       "      <td>0.98845</td>\n",
       "      <td>0.279279</td>\n",
       "      <td>0.719</td>\n",
       "      <td>0.258224</td>\n",
       "    </tr>\n",
       "    <tr>\n",
       "      <th>4</th>\n",
       "      <td>0.439394</td>\n",
       "      <td>0.535354</td>\n",
       "      <td>0.28925</td>\n",
       "      <td>0.342342</td>\n",
       "      <td>0.704</td>\n",
       "      <td>0.235197</td>\n",
       "    </tr>\n",
       "  </tbody>\n",
       "</table>\n",
       "</div>"
      ],
      "text/plain": [
       "   Subjectivity  Polarity  Compound  Negative  Neutral  Positive\n",
       "0      0.282333  0.427407   0.00945  0.274775    0.807  0.116776\n",
       "1      0.407692  0.357550   0.36800  0.274775    0.766  0.182566\n",
       "2      0.446847  0.356994   0.93690  0.225225    0.797  0.169408\n",
       "3      0.476612  0.550397   0.98845  0.279279    0.719  0.258224\n",
       "4      0.439394  0.535354   0.28925  0.342342    0.704  0.235197"
      ]
     },
     "execution_count": 78,
     "metadata": {},
     "output_type": "execute_result"
    }
   ],
   "source": [
    "from sklearn.preprocessing import MinMaxScaler\n",
    "sc = MinMaxScaler()\n",
    "new_df = pd.DataFrame(sc.fit_transform(dff))\n",
    "new_df.columns = dff.columns\n",
    "new_df.index = dff.index\n",
    "new_df.head()"
   ]
  },
  {
   "cell_type": "code",
   "execution_count": 165,
   "id": "cb156824",
   "metadata": {},
   "outputs": [
    {
     "data": {
      "text/plain": [
       "0      0.735131\n",
       "1      0.745002\n",
       "2      0.750519\n",
       "3      0.750884\n",
       "4      0.749024\n",
       "         ...   \n",
       "245    0.962154\n",
       "246    0.969541\n",
       "247    0.970005\n",
       "248    0.989293\n",
       "249    1.000000\n",
       "Name: Close, Length: 250, dtype: float64"
      ]
     },
     "execution_count": 165,
     "metadata": {},
     "output_type": "execute_result"
    }
   ],
   "source": [
    "y_scaled=df_min_max_scaled['Close']\n",
    "y_scaled"
   ]
  },
  {
   "cell_type": "code",
   "execution_count": 166,
   "id": "71216ff0",
   "metadata": {},
   "outputs": [
    {
     "data": {
      "text/plain": [
       "(250,)"
      ]
     },
     "execution_count": 166,
     "metadata": {},
     "output_type": "execute_result"
    }
   ],
   "source": [
    "y_scaled.shape"
   ]
  },
  {
   "cell_type": "code",
   "execution_count": 167,
   "id": "203dc52d",
   "metadata": {},
   "outputs": [
    {
     "data": {
      "text/html": [
       "<div>\n",
       "<style scoped>\n",
       "    .dataframe tbody tr th:only-of-type {\n",
       "        vertical-align: middle;\n",
       "    }\n",
       "\n",
       "    .dataframe tbody tr th {\n",
       "        vertical-align: top;\n",
       "    }\n",
       "\n",
       "    .dataframe thead th {\n",
       "        text-align: right;\n",
       "    }\n",
       "</style>\n",
       "<table border=\"1\" class=\"dataframe\">\n",
       "  <thead>\n",
       "    <tr style=\"text-align: right;\">\n",
       "      <th></th>\n",
       "      <th>Subjectivity</th>\n",
       "      <th>Polarity</th>\n",
       "      <th>Compound</th>\n",
       "      <th>Negative</th>\n",
       "      <th>Neutral</th>\n",
       "      <th>Positive</th>\n",
       "    </tr>\n",
       "  </thead>\n",
       "  <tbody>\n",
       "    <tr>\n",
       "      <th>0</th>\n",
       "      <td>0.282333</td>\n",
       "      <td>0.427407</td>\n",
       "      <td>0.00945</td>\n",
       "      <td>0.274775</td>\n",
       "      <td>0.807</td>\n",
       "      <td>0.116776</td>\n",
       "    </tr>\n",
       "    <tr>\n",
       "      <th>1</th>\n",
       "      <td>0.407692</td>\n",
       "      <td>0.357550</td>\n",
       "      <td>0.36800</td>\n",
       "      <td>0.274775</td>\n",
       "      <td>0.766</td>\n",
       "      <td>0.182566</td>\n",
       "    </tr>\n",
       "    <tr>\n",
       "      <th>2</th>\n",
       "      <td>0.446847</td>\n",
       "      <td>0.356994</td>\n",
       "      <td>0.93690</td>\n",
       "      <td>0.225225</td>\n",
       "      <td>0.797</td>\n",
       "      <td>0.169408</td>\n",
       "    </tr>\n",
       "    <tr>\n",
       "      <th>3</th>\n",
       "      <td>0.476612</td>\n",
       "      <td>0.550397</td>\n",
       "      <td>0.98845</td>\n",
       "      <td>0.279279</td>\n",
       "      <td>0.719</td>\n",
       "      <td>0.258224</td>\n",
       "    </tr>\n",
       "    <tr>\n",
       "      <th>4</th>\n",
       "      <td>0.439394</td>\n",
       "      <td>0.535354</td>\n",
       "      <td>0.28925</td>\n",
       "      <td>0.342342</td>\n",
       "      <td>0.704</td>\n",
       "      <td>0.235197</td>\n",
       "    </tr>\n",
       "    <tr>\n",
       "      <th>...</th>\n",
       "      <td>...</td>\n",
       "      <td>...</td>\n",
       "      <td>...</td>\n",
       "      <td>...</td>\n",
       "      <td>...</td>\n",
       "      <td>...</td>\n",
       "    </tr>\n",
       "    <tr>\n",
       "      <th>7713</th>\n",
       "      <td>0.369592</td>\n",
       "      <td>0.287158</td>\n",
       "      <td>0.00005</td>\n",
       "      <td>0.346847</td>\n",
       "      <td>0.764</td>\n",
       "      <td>0.134868</td>\n",
       "    </tr>\n",
       "    <tr>\n",
       "      <th>7714</th>\n",
       "      <td>0.389939</td>\n",
       "      <td>0.321346</td>\n",
       "      <td>0.00005</td>\n",
       "      <td>0.355856</td>\n",
       "      <td>0.742</td>\n",
       "      <td>0.164474</td>\n",
       "    </tr>\n",
       "    <tr>\n",
       "      <th>7715</th>\n",
       "      <td>0.404240</td>\n",
       "      <td>0.365034</td>\n",
       "      <td>0.00005</td>\n",
       "      <td>0.342342</td>\n",
       "      <td>0.766</td>\n",
       "      <td>0.134868</td>\n",
       "    </tr>\n",
       "    <tr>\n",
       "      <th>7716</th>\n",
       "      <td>0.350965</td>\n",
       "      <td>0.301180</td>\n",
       "      <td>0.00005</td>\n",
       "      <td>0.340090</td>\n",
       "      <td>0.775</td>\n",
       "      <td>0.121711</td>\n",
       "    </tr>\n",
       "    <tr>\n",
       "      <th>7717</th>\n",
       "      <td>0.338593</td>\n",
       "      <td>0.285541</td>\n",
       "      <td>0.00005</td>\n",
       "      <td>0.337838</td>\n",
       "      <td>0.781</td>\n",
       "      <td>0.113487</td>\n",
       "    </tr>\n",
       "  </tbody>\n",
       "</table>\n",
       "<p>7718 rows × 6 columns</p>\n",
       "</div>"
      ],
      "text/plain": [
       "      Subjectivity  Polarity  Compound  Negative  Neutral  Positive\n",
       "0         0.282333  0.427407   0.00945  0.274775    0.807  0.116776\n",
       "1         0.407692  0.357550   0.36800  0.274775    0.766  0.182566\n",
       "2         0.446847  0.356994   0.93690  0.225225    0.797  0.169408\n",
       "3         0.476612  0.550397   0.98845  0.279279    0.719  0.258224\n",
       "4         0.439394  0.535354   0.28925  0.342342    0.704  0.235197\n",
       "...            ...       ...       ...       ...      ...       ...\n",
       "7713      0.369592  0.287158   0.00005  0.346847    0.764  0.134868\n",
       "7714      0.389939  0.321346   0.00005  0.355856    0.742  0.164474\n",
       "7715      0.404240  0.365034   0.00005  0.342342    0.766  0.134868\n",
       "7716      0.350965  0.301180   0.00005  0.340090    0.775  0.121711\n",
       "7717      0.338593  0.285541   0.00005  0.337838    0.781  0.113487\n",
       "\n",
       "[7718 rows x 6 columns]"
      ]
     },
     "execution_count": 167,
     "metadata": {},
     "output_type": "execute_result"
    }
   ],
   "source": [
    "new_df"
   ]
  },
  {
   "cell_type": "code",
   "execution_count": 168,
   "id": "4fe59dff",
   "metadata": {},
   "outputs": [],
   "source": [
    "X = new_df[0:250]\n",
    "y = df['Close']"
   ]
  },
  {
   "cell_type": "code",
   "execution_count": 169,
   "id": "25609c8b",
   "metadata": {},
   "outputs": [
    {
     "data": {
      "text/plain": [
       "0      41352.171875\n",
       "1      41558.570313\n",
       "2      41673.921875\n",
       "3      41681.539063\n",
       "4      41642.660156\n",
       "           ...     \n",
       "245    46099.011719\n",
       "246    46253.460938\n",
       "247    46263.171875\n",
       "248    46666.460938\n",
       "249    46890.339844\n",
       "Name: Close, Length: 250, dtype: float64"
      ]
     },
     "execution_count": 169,
     "metadata": {},
     "output_type": "execute_result"
    }
   ],
   "source": [
    "y"
   ]
  },
  {
   "cell_type": "code",
   "execution_count": 170,
   "id": "7f6f7ce4",
   "metadata": {},
   "outputs": [
    {
     "data": {
      "text/plain": [
       "0      0.735131\n",
       "1      0.745002\n",
       "2      0.750519\n",
       "3      0.750884\n",
       "4      0.749024\n",
       "         ...   \n",
       "245    0.962154\n",
       "246    0.969541\n",
       "247    0.970005\n",
       "248    0.989293\n",
       "249    1.000000\n",
       "Name: Close, Length: 250, dtype: float64"
      ]
     },
     "execution_count": 170,
     "metadata": {},
     "output_type": "execute_result"
    }
   ],
   "source": [
    "y_scaled"
   ]
  },
  {
   "cell_type": "code",
   "execution_count": 171,
   "id": "32fe707e",
   "metadata": {},
   "outputs": [],
   "source": [
    "from sklearn.model_selection import train_test_split"
   ]
  },
  {
   "cell_type": "code",
   "execution_count": 172,
   "id": "78ef0eb0",
   "metadata": {},
   "outputs": [
    {
     "data": {
      "text/plain": [
       "(200, 6)"
      ]
     },
     "execution_count": 172,
     "metadata": {},
     "output_type": "execute_result"
    }
   ],
   "source": [
    "x_train, x_test, y_train, y_test = train_test_split(X, y_scaled, test_size=0.2, random_state = 0)\n",
    "x_train.shape"
   ]
  },
  {
   "cell_type": "code",
   "execution_count": 173,
   "id": "f30febad",
   "metadata": {},
   "outputs": [
    {
     "data": {
      "text/html": [
       "<div>\n",
       "<style scoped>\n",
       "    .dataframe tbody tr th:only-of-type {\n",
       "        vertical-align: middle;\n",
       "    }\n",
       "\n",
       "    .dataframe tbody tr th {\n",
       "        vertical-align: top;\n",
       "    }\n",
       "\n",
       "    .dataframe thead th {\n",
       "        text-align: right;\n",
       "    }\n",
       "</style>\n",
       "<table border=\"1\" class=\"dataframe\">\n",
       "  <thead>\n",
       "    <tr style=\"text-align: right;\">\n",
       "      <th></th>\n",
       "      <th>Subjectivity</th>\n",
       "      <th>Polarity</th>\n",
       "      <th>Compound</th>\n",
       "      <th>Negative</th>\n",
       "      <th>Neutral</th>\n",
       "      <th>Positive</th>\n",
       "    </tr>\n",
       "  </thead>\n",
       "  <tbody>\n",
       "    <tr>\n",
       "      <th>71</th>\n",
       "      <td>0.410909</td>\n",
       "      <td>0.388328</td>\n",
       "      <td>0.85655</td>\n",
       "      <td>0.180180</td>\n",
       "      <td>0.833</td>\n",
       "      <td>0.143092</td>\n",
       "    </tr>\n",
       "    <tr>\n",
       "      <th>160</th>\n",
       "      <td>0.340023</td>\n",
       "      <td>0.242115</td>\n",
       "      <td>0.00090</td>\n",
       "      <td>0.337838</td>\n",
       "      <td>0.774</td>\n",
       "      <td>0.125000</td>\n",
       "    </tr>\n",
       "    <tr>\n",
       "      <th>180</th>\n",
       "      <td>0.421230</td>\n",
       "      <td>0.376940</td>\n",
       "      <td>0.00200</td>\n",
       "      <td>0.335586</td>\n",
       "      <td>0.738</td>\n",
       "      <td>0.185855</td>\n",
       "    </tr>\n",
       "    <tr>\n",
       "      <th>75</th>\n",
       "      <td>0.415278</td>\n",
       "      <td>0.196759</td>\n",
       "      <td>0.03055</td>\n",
       "      <td>0.265766</td>\n",
       "      <td>0.828</td>\n",
       "      <td>0.090461</td>\n",
       "    </tr>\n",
       "    <tr>\n",
       "      <th>59</th>\n",
       "      <td>0.493362</td>\n",
       "      <td>0.476381</td>\n",
       "      <td>0.08270</td>\n",
       "      <td>0.376126</td>\n",
       "      <td>0.705</td>\n",
       "      <td>0.210526</td>\n",
       "    </tr>\n",
       "    <tr>\n",
       "      <th>101</th>\n",
       "      <td>0.424206</td>\n",
       "      <td>0.369048</td>\n",
       "      <td>0.09630</td>\n",
       "      <td>0.297297</td>\n",
       "      <td>0.758</td>\n",
       "      <td>0.182566</td>\n",
       "    </tr>\n",
       "    <tr>\n",
       "      <th>229</th>\n",
       "      <td>0.383692</td>\n",
       "      <td>0.296192</td>\n",
       "      <td>0.00030</td>\n",
       "      <td>0.344595</td>\n",
       "      <td>0.753</td>\n",
       "      <td>0.154605</td>\n",
       "    </tr>\n",
       "    <tr>\n",
       "      <th>18</th>\n",
       "      <td>0.410714</td>\n",
       "      <td>0.361523</td>\n",
       "      <td>0.12245</td>\n",
       "      <td>0.297297</td>\n",
       "      <td>0.744</td>\n",
       "      <td>0.203947</td>\n",
       "    </tr>\n",
       "    <tr>\n",
       "      <th>188</th>\n",
       "      <td>0.401574</td>\n",
       "      <td>0.370227</td>\n",
       "      <td>0.00135</td>\n",
       "      <td>0.308559</td>\n",
       "      <td>0.745</td>\n",
       "      <td>0.195724</td>\n",
       "    </tr>\n",
       "    <tr>\n",
       "      <th>15</th>\n",
       "      <td>0.292222</td>\n",
       "      <td>0.437830</td>\n",
       "      <td>0.92240</td>\n",
       "      <td>0.299550</td>\n",
       "      <td>0.714</td>\n",
       "      <td>0.251645</td>\n",
       "    </tr>\n",
       "  </tbody>\n",
       "</table>\n",
       "</div>"
      ],
      "text/plain": [
       "     Subjectivity  Polarity  Compound  Negative  Neutral  Positive\n",
       "71       0.410909  0.388328   0.85655  0.180180    0.833  0.143092\n",
       "160      0.340023  0.242115   0.00090  0.337838    0.774  0.125000\n",
       "180      0.421230  0.376940   0.00200  0.335586    0.738  0.185855\n",
       "75       0.415278  0.196759   0.03055  0.265766    0.828  0.090461\n",
       "59       0.493362  0.476381   0.08270  0.376126    0.705  0.210526\n",
       "101      0.424206  0.369048   0.09630  0.297297    0.758  0.182566\n",
       "229      0.383692  0.296192   0.00030  0.344595    0.753  0.154605\n",
       "18       0.410714  0.361523   0.12245  0.297297    0.744  0.203947\n",
       "188      0.401574  0.370227   0.00135  0.308559    0.745  0.195724\n",
       "15       0.292222  0.437830   0.92240  0.299550    0.714  0.251645"
      ]
     },
     "execution_count": 173,
     "metadata": {},
     "output_type": "execute_result"
    }
   ],
   "source": [
    "x_train[:10]"
   ]
  },
  {
   "cell_type": "markdown",
   "id": "32c78ce4",
   "metadata": {},
   "source": [
    "## Models for hybrid Analysis"
   ]
  },
  {
   "cell_type": "markdown",
   "id": "e2a31e3a",
   "metadata": {},
   "source": [
    "### Random Forest Regressor"
   ]
  },
  {
   "cell_type": "code",
   "execution_count": 184,
   "id": "69f338af",
   "metadata": {},
   "outputs": [],
   "source": [
    "rf = RandomForestRegressor()\n",
    "rf.fit(x_train, y_train)\n",
    "prediction=rf.predict(x_test)"
   ]
  },
  {
   "cell_type": "code",
   "execution_count": 185,
   "id": "690544db",
   "metadata": {},
   "outputs": [
    {
     "name": "stdout",
     "output_type": "stream",
     "text": [
      "[0.75231207 0.42932686 0.47800061 0.38527422]\n",
      "225    0.842333\n",
      "122    0.393456\n",
      "92     0.272824\n",
      "157    0.576027\n",
      "154    0.524095\n",
      "161    0.592488\n",
      "198    0.621378\n",
      "83     0.258180\n",
      "63     0.110334\n",
      "155    0.559884\n",
      "Name: Close, dtype: float64\n",
      "Root mean square error Random Forest=  0.20437517231873806\n"
     ]
    }
   ],
   "source": [
    "print(prediction[:4])\n",
    "print(y_test[:10])\n",
    "print(\"Root mean square error Random Forest= \",math.sqrt(mean_squared_error(prediction,y_test)))"
   ]
  },
  {
   "cell_type": "code",
   "execution_count": 190,
   "id": "3f898cfa",
   "metadata": {},
   "outputs": [],
   "source": [
    "from sklearn.metrics import mean_squared_error as mse\n",
    "from sklearn.metrics import mean_absolute_error as mae\n",
    "from sklearn.metrics import r2_score\n"
   ]
  },
  {
   "cell_type": "code",
   "execution_count": 192,
   "id": "9590d5cd",
   "metadata": {},
   "outputs": [],
   "source": [
    "b_pred = rf.predict(x_test)"
   ]
  },
  {
   "cell_type": "code",
   "execution_count": 193,
   "id": "8750daee",
   "metadata": {},
   "outputs": [
    {
     "name": "stdout",
     "output_type": "stream",
     "text": [
      "MSE = 0.04176921106031388\n",
      "MAE = 0.16923118851539973\n",
      "R2 Score = -2.516351056869444\n"
     ]
    }
   ],
   "source": [
    "print('MSE =', mse(b_pred, y_test))\n",
    "print('MAE =', mae(b_pred, y_test))\n",
    "print('R2 Score =', r2_score(b_pred, y_test))"
   ]
  },
  {
   "cell_type": "markdown",
   "id": "2c9d1f3b",
   "metadata": {},
   "source": [
    "### Adaboost Regressor"
   ]
  },
  {
   "cell_type": "code",
   "execution_count": 175,
   "id": "c912ccbf",
   "metadata": {},
   "outputs": [],
   "source": [
    "adb = AdaBoostRegressor()\n",
    "adb.fit(x_train, y_train)\n",
    "predictions = adb.predict(x_test)"
   ]
  },
  {
   "cell_type": "code",
   "execution_count": 176,
   "id": "d25159b4",
   "metadata": {},
   "outputs": [
    {
     "name": "stdout",
     "output_type": "stream",
     "text": [
      "Mean square error Adaboost =  0.1870361740488165\n"
     ]
    }
   ],
   "source": [
    "print(\"Mean square error Adaboost = \",math.sqrt(mean_squared_error(predictions, y_test)))"
   ]
  },
  {
   "cell_type": "markdown",
   "id": "aa1f2594",
   "metadata": {},
   "source": [
    "### Decision Tree Regressor"
   ]
  },
  {
   "cell_type": "code",
   "execution_count": 177,
   "id": "a59f25ac",
   "metadata": {},
   "outputs": [],
   "source": [
    "dtr = DecisionTreeRegressor()\n",
    "dtr.fit(x_train, y_train)\n",
    "predictions = dtr.predict(x_test)"
   ]
  },
  {
   "cell_type": "code",
   "execution_count": 178,
   "id": "8561e5ec",
   "metadata": {},
   "outputs": [
    {
     "name": "stdout",
     "output_type": "stream",
     "text": [
      "[0.9386952  0.32229604 0.72380633 0.        ]\n",
      "225    0.842333\n",
      "122    0.393456\n",
      "92     0.272824\n",
      "157    0.576027\n",
      "154    0.524095\n",
      "161    0.592488\n",
      "198    0.621378\n",
      "83     0.258180\n",
      "63     0.110334\n",
      "155    0.559884\n",
      "Name: Close, dtype: float64\n",
      "Mean Squared error:  0.23862185131307995\n"
     ]
    }
   ],
   "source": [
    "print(predictions[:4])\n",
    "print(y_test[:10])\n",
    "print('Mean Squared error: ',math.sqrt(mean_squared_error(predictions,y_test)))"
   ]
  },
  {
   "cell_type": "markdown",
   "id": "1570bd8e",
   "metadata": {},
   "source": [
    "## Conclusion: "
   ]
  },
  {
   "cell_type": "markdown",
   "id": "0c3a4b88",
   "metadata": {},
   "source": [
    "Comparing the mean squared error values of the three models:\n",
    "\n",
    "1. Random Forest Regressor: 0.20437517231873806\n",
    "2. Adaboost Regressor: 0.1870361740488165\n",
    "3. Decision Tree Regressor: 0.23862185131307995\n",
    "\n",
    "It can be observed that Adaboost Regressor gives the best performance"
   ]
  },
  {
   "cell_type": "code",
   "execution_count": null,
   "id": "f9bb4143",
   "metadata": {},
   "outputs": [],
   "source": []
  }
 ],
 "metadata": {
  "kernelspec": {
   "display_name": "Python 3 (ipykernel)",
   "language": "python",
   "name": "python3"
  },
  "language_info": {
   "codemirror_mode": {
    "name": "ipython",
    "version": 3
   },
   "file_extension": ".py",
   "mimetype": "text/x-python",
   "name": "python",
   "nbconvert_exporter": "python",
   "pygments_lexer": "ipython3",
   "version": "3.9.4"
  }
 },
 "nbformat": 4,
 "nbformat_minor": 5
}
